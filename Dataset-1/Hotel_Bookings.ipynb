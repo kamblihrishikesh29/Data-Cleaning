{
 "cells": [
  {
   "cell_type": "code",
   "execution_count": 1,
   "id": "0555edfd",
   "metadata": {},
   "outputs": [],
   "source": [
    "import pandas as pd\n",
    "import numpy as np\n",
    "import seaborn as sns\n",
    "import matplotlib.pyplot as plt\n",
    "import os\n",
    "pd.set_option('display.max_columns', None) # code to display all columns"
   ]
  },
  {
   "cell_type": "code",
   "execution_count": 2,
   "id": "eb18c5f9",
   "metadata": {},
   "outputs": [
    {
     "data": {
      "text/plain": [
       "'c:\\\\Users\\\\kambl\\\\Dropbox\\\\PC\\\\Desktop\\\\Hrishikesh\\\\Job\\\\Python\\\\Data Cleaning\\\\Hotel Booking'"
      ]
     },
     "execution_count": 2,
     "metadata": {},
     "output_type": "execute_result"
    }
   ],
   "source": [
    "os.getcwd()"
   ]
  },
  {
   "cell_type": "code",
   "execution_count": 3,
   "id": "74db9ccc",
   "metadata": {},
   "outputs": [],
   "source": [
    "df_init = pd.read_csv('hotel_bookings.csv')    # Will not edit this - May need for comparison\n",
    "df = pd.read_csv('hotel_bookings.csv')"
   ]
  },
  {
   "cell_type": "code",
   "execution_count": 4,
   "id": "fc8c29ac",
   "metadata": {},
   "outputs": [
    {
     "name": "stdout",
     "output_type": "stream",
     "text": [
      "(119390, 32)\n"
     ]
    },
    {
     "data": {
      "text/html": [
       "<div>\n",
       "<style scoped>\n",
       "    .dataframe tbody tr th:only-of-type {\n",
       "        vertical-align: middle;\n",
       "    }\n",
       "\n",
       "    .dataframe tbody tr th {\n",
       "        vertical-align: top;\n",
       "    }\n",
       "\n",
       "    .dataframe thead th {\n",
       "        text-align: right;\n",
       "    }\n",
       "</style>\n",
       "<table border=\"1\" class=\"dataframe\">\n",
       "  <thead>\n",
       "    <tr style=\"text-align: right;\">\n",
       "      <th></th>\n",
       "      <th>hotel</th>\n",
       "      <th>is_canceled</th>\n",
       "      <th>lead_time</th>\n",
       "      <th>arrival_date_year</th>\n",
       "      <th>arrival_date_month</th>\n",
       "      <th>arrival_date_week_number</th>\n",
       "      <th>arrival_date_day_of_month</th>\n",
       "      <th>stays_in_weekend_nights</th>\n",
       "      <th>stays_in_week_nights</th>\n",
       "      <th>adults</th>\n",
       "      <th>children</th>\n",
       "      <th>babies</th>\n",
       "      <th>meal</th>\n",
       "      <th>country</th>\n",
       "      <th>market_segment</th>\n",
       "      <th>distribution_channel</th>\n",
       "      <th>is_repeated_guest</th>\n",
       "      <th>previous_cancellations</th>\n",
       "      <th>previous_bookings_not_canceled</th>\n",
       "      <th>reserved_room_type</th>\n",
       "      <th>assigned_room_type</th>\n",
       "      <th>booking_changes</th>\n",
       "      <th>deposit_type</th>\n",
       "      <th>agent</th>\n",
       "      <th>company</th>\n",
       "      <th>days_in_waiting_list</th>\n",
       "      <th>customer_type</th>\n",
       "      <th>adr</th>\n",
       "      <th>required_car_parking_spaces</th>\n",
       "      <th>total_of_special_requests</th>\n",
       "      <th>reservation_status</th>\n",
       "      <th>reservation_status_date</th>\n",
       "    </tr>\n",
       "  </thead>\n",
       "  <tbody>\n",
       "    <tr>\n",
       "      <th>0</th>\n",
       "      <td>Resort Hotel</td>\n",
       "      <td>0</td>\n",
       "      <td>342</td>\n",
       "      <td>2015</td>\n",
       "      <td>July</td>\n",
       "      <td>27</td>\n",
       "      <td>1</td>\n",
       "      <td>0</td>\n",
       "      <td>0</td>\n",
       "      <td>2</td>\n",
       "      <td>0.0</td>\n",
       "      <td>0</td>\n",
       "      <td>BB</td>\n",
       "      <td>PRT</td>\n",
       "      <td>Direct</td>\n",
       "      <td>Direct</td>\n",
       "      <td>0</td>\n",
       "      <td>0</td>\n",
       "      <td>0</td>\n",
       "      <td>C</td>\n",
       "      <td>C</td>\n",
       "      <td>3</td>\n",
       "      <td>No Deposit</td>\n",
       "      <td>NaN</td>\n",
       "      <td>NaN</td>\n",
       "      <td>0</td>\n",
       "      <td>Transient</td>\n",
       "      <td>0.0</td>\n",
       "      <td>0</td>\n",
       "      <td>0</td>\n",
       "      <td>Check-Out</td>\n",
       "      <td>7/1/2015</td>\n",
       "    </tr>\n",
       "    <tr>\n",
       "      <th>1</th>\n",
       "      <td>Resort Hotel</td>\n",
       "      <td>0</td>\n",
       "      <td>737</td>\n",
       "      <td>2015</td>\n",
       "      <td>July</td>\n",
       "      <td>27</td>\n",
       "      <td>1</td>\n",
       "      <td>0</td>\n",
       "      <td>0</td>\n",
       "      <td>2</td>\n",
       "      <td>0.0</td>\n",
       "      <td>0</td>\n",
       "      <td>BB</td>\n",
       "      <td>PRT</td>\n",
       "      <td>Direct</td>\n",
       "      <td>Direct</td>\n",
       "      <td>0</td>\n",
       "      <td>0</td>\n",
       "      <td>0</td>\n",
       "      <td>C</td>\n",
       "      <td>C</td>\n",
       "      <td>4</td>\n",
       "      <td>No Deposit</td>\n",
       "      <td>NaN</td>\n",
       "      <td>NaN</td>\n",
       "      <td>0</td>\n",
       "      <td>Transient</td>\n",
       "      <td>0.0</td>\n",
       "      <td>0</td>\n",
       "      <td>0</td>\n",
       "      <td>Check-Out</td>\n",
       "      <td>7/1/2015</td>\n",
       "    </tr>\n",
       "    <tr>\n",
       "      <th>2</th>\n",
       "      <td>Resort Hotel</td>\n",
       "      <td>0</td>\n",
       "      <td>7</td>\n",
       "      <td>2015</td>\n",
       "      <td>July</td>\n",
       "      <td>27</td>\n",
       "      <td>1</td>\n",
       "      <td>0</td>\n",
       "      <td>1</td>\n",
       "      <td>1</td>\n",
       "      <td>0.0</td>\n",
       "      <td>0</td>\n",
       "      <td>BB</td>\n",
       "      <td>GBR</td>\n",
       "      <td>Direct</td>\n",
       "      <td>Direct</td>\n",
       "      <td>0</td>\n",
       "      <td>0</td>\n",
       "      <td>0</td>\n",
       "      <td>A</td>\n",
       "      <td>C</td>\n",
       "      <td>0</td>\n",
       "      <td>No Deposit</td>\n",
       "      <td>NaN</td>\n",
       "      <td>NaN</td>\n",
       "      <td>0</td>\n",
       "      <td>Transient</td>\n",
       "      <td>75.0</td>\n",
       "      <td>0</td>\n",
       "      <td>0</td>\n",
       "      <td>Check-Out</td>\n",
       "      <td>7/2/2015</td>\n",
       "    </tr>\n",
       "    <tr>\n",
       "      <th>3</th>\n",
       "      <td>Resort Hotel</td>\n",
       "      <td>0</td>\n",
       "      <td>13</td>\n",
       "      <td>2015</td>\n",
       "      <td>July</td>\n",
       "      <td>27</td>\n",
       "      <td>1</td>\n",
       "      <td>0</td>\n",
       "      <td>1</td>\n",
       "      <td>1</td>\n",
       "      <td>0.0</td>\n",
       "      <td>0</td>\n",
       "      <td>BB</td>\n",
       "      <td>GBR</td>\n",
       "      <td>Corporate</td>\n",
       "      <td>Corporate</td>\n",
       "      <td>0</td>\n",
       "      <td>0</td>\n",
       "      <td>0</td>\n",
       "      <td>A</td>\n",
       "      <td>A</td>\n",
       "      <td>0</td>\n",
       "      <td>No Deposit</td>\n",
       "      <td>304.0</td>\n",
       "      <td>NaN</td>\n",
       "      <td>0</td>\n",
       "      <td>Transient</td>\n",
       "      <td>75.0</td>\n",
       "      <td>0</td>\n",
       "      <td>0</td>\n",
       "      <td>Check-Out</td>\n",
       "      <td>7/2/2015</td>\n",
       "    </tr>\n",
       "    <tr>\n",
       "      <th>4</th>\n",
       "      <td>Resort Hotel</td>\n",
       "      <td>0</td>\n",
       "      <td>14</td>\n",
       "      <td>2015</td>\n",
       "      <td>July</td>\n",
       "      <td>27</td>\n",
       "      <td>1</td>\n",
       "      <td>0</td>\n",
       "      <td>2</td>\n",
       "      <td>2</td>\n",
       "      <td>0.0</td>\n",
       "      <td>0</td>\n",
       "      <td>BB</td>\n",
       "      <td>GBR</td>\n",
       "      <td>Online TA</td>\n",
       "      <td>TA/TO</td>\n",
       "      <td>0</td>\n",
       "      <td>0</td>\n",
       "      <td>0</td>\n",
       "      <td>A</td>\n",
       "      <td>A</td>\n",
       "      <td>0</td>\n",
       "      <td>No Deposit</td>\n",
       "      <td>240.0</td>\n",
       "      <td>NaN</td>\n",
       "      <td>0</td>\n",
       "      <td>Transient</td>\n",
       "      <td>98.0</td>\n",
       "      <td>0</td>\n",
       "      <td>1</td>\n",
       "      <td>Check-Out</td>\n",
       "      <td>7/3/2015</td>\n",
       "    </tr>\n",
       "  </tbody>\n",
       "</table>\n",
       "</div>"
      ],
      "text/plain": [
       "          hotel  is_canceled  lead_time  arrival_date_year arrival_date_month  \\\n",
       "0  Resort Hotel            0        342               2015               July   \n",
       "1  Resort Hotel            0        737               2015               July   \n",
       "2  Resort Hotel            0          7               2015               July   \n",
       "3  Resort Hotel            0         13               2015               July   \n",
       "4  Resort Hotel            0         14               2015               July   \n",
       "\n",
       "   arrival_date_week_number  arrival_date_day_of_month  \\\n",
       "0                        27                          1   \n",
       "1                        27                          1   \n",
       "2                        27                          1   \n",
       "3                        27                          1   \n",
       "4                        27                          1   \n",
       "\n",
       "   stays_in_weekend_nights  stays_in_week_nights  adults  children  babies  \\\n",
       "0                        0                     0       2       0.0       0   \n",
       "1                        0                     0       2       0.0       0   \n",
       "2                        0                     1       1       0.0       0   \n",
       "3                        0                     1       1       0.0       0   \n",
       "4                        0                     2       2       0.0       0   \n",
       "\n",
       "  meal country market_segment distribution_channel  is_repeated_guest  \\\n",
       "0   BB     PRT         Direct               Direct                  0   \n",
       "1   BB     PRT         Direct               Direct                  0   \n",
       "2   BB     GBR         Direct               Direct                  0   \n",
       "3   BB     GBR      Corporate            Corporate                  0   \n",
       "4   BB     GBR      Online TA                TA/TO                  0   \n",
       "\n",
       "   previous_cancellations  previous_bookings_not_canceled reserved_room_type  \\\n",
       "0                       0                               0                  C   \n",
       "1                       0                               0                  C   \n",
       "2                       0                               0                  A   \n",
       "3                       0                               0                  A   \n",
       "4                       0                               0                  A   \n",
       "\n",
       "  assigned_room_type  booking_changes deposit_type  agent  company  \\\n",
       "0                  C                3   No Deposit    NaN      NaN   \n",
       "1                  C                4   No Deposit    NaN      NaN   \n",
       "2                  C                0   No Deposit    NaN      NaN   \n",
       "3                  A                0   No Deposit  304.0      NaN   \n",
       "4                  A                0   No Deposit  240.0      NaN   \n",
       "\n",
       "   days_in_waiting_list customer_type   adr  required_car_parking_spaces  \\\n",
       "0                     0     Transient   0.0                            0   \n",
       "1                     0     Transient   0.0                            0   \n",
       "2                     0     Transient  75.0                            0   \n",
       "3                     0     Transient  75.0                            0   \n",
       "4                     0     Transient  98.0                            0   \n",
       "\n",
       "   total_of_special_requests reservation_status reservation_status_date  \n",
       "0                          0          Check-Out                7/1/2015  \n",
       "1                          0          Check-Out                7/1/2015  \n",
       "2                          0          Check-Out                7/2/2015  \n",
       "3                          0          Check-Out                7/2/2015  \n",
       "4                          1          Check-Out                7/3/2015  "
      ]
     },
     "execution_count": 4,
     "metadata": {},
     "output_type": "execute_result"
    }
   ],
   "source": [
    "#Checking sample of data\n",
    "print(df.shape)\n",
    "df.head()"
   ]
  },
  {
   "cell_type": "code",
   "execution_count": 5,
   "id": "2767551e",
   "metadata": {},
   "outputs": [
    {
     "name": "stdout",
     "output_type": "stream",
     "text": [
      "<class 'pandas.core.frame.DataFrame'>\n",
      "RangeIndex: 119390 entries, 0 to 119389\n",
      "Data columns (total 32 columns):\n",
      " #   Column                          Non-Null Count   Dtype  \n",
      "---  ------                          --------------   -----  \n",
      " 0   hotel                           119390 non-null  object \n",
      " 1   is_canceled                     119390 non-null  int64  \n",
      " 2   lead_time                       119390 non-null  int64  \n",
      " 3   arrival_date_year               119390 non-null  int64  \n",
      " 4   arrival_date_month              119390 non-null  object \n",
      " 5   arrival_date_week_number        119390 non-null  int64  \n",
      " 6   arrival_date_day_of_month       119390 non-null  int64  \n",
      " 7   stays_in_weekend_nights         119390 non-null  int64  \n",
      " 8   stays_in_week_nights            119390 non-null  int64  \n",
      " 9   adults                          119390 non-null  int64  \n",
      " 10  children                        119386 non-null  float64\n",
      " 11  babies                          119390 non-null  int64  \n",
      " 12  meal                            119390 non-null  object \n",
      " 13  country                         118902 non-null  object \n",
      " 14  market_segment                  119390 non-null  object \n",
      " 15  distribution_channel            119390 non-null  object \n",
      " 16  is_repeated_guest               119390 non-null  int64  \n",
      " 17  previous_cancellations          119390 non-null  int64  \n",
      " 18  previous_bookings_not_canceled  119390 non-null  int64  \n",
      " 19  reserved_room_type              119390 non-null  object \n",
      " 20  assigned_room_type              119390 non-null  object \n",
      " 21  booking_changes                 119390 non-null  int64  \n",
      " 22  deposit_type                    119390 non-null  object \n",
      " 23  agent                           103050 non-null  float64\n",
      " 24  company                         6797 non-null    float64\n",
      " 25  days_in_waiting_list            119390 non-null  int64  \n",
      " 26  customer_type                   119390 non-null  object \n",
      " 27  adr                             119390 non-null  float64\n",
      " 28  required_car_parking_spaces     119390 non-null  int64  \n",
      " 29  total_of_special_requests       119390 non-null  int64  \n",
      " 30  reservation_status              119390 non-null  object \n",
      " 31  reservation_status_date         119390 non-null  object \n",
      "dtypes: float64(4), int64(16), object(12)\n",
      "memory usage: 29.1+ MB\n"
     ]
    }
   ],
   "source": [
    "df.info()"
   ]
  },
  {
   "cell_type": "markdown",
   "id": "107cf969",
   "metadata": {},
   "source": [
    "# Data Cleaning"
   ]
  },
  {
   "cell_type": "markdown",
   "id": "8bc05546",
   "metadata": {},
   "source": [
    "#### Duplicate Rows"
   ]
  },
  {
   "cell_type": "code",
   "execution_count": 6,
   "id": "66b540a5",
   "metadata": {},
   "outputs": [
    {
     "data": {
      "text/plain": [
       "31994"
      ]
     },
     "execution_count": 6,
     "metadata": {},
     "output_type": "execute_result"
    }
   ],
   "source": [
    "# Calculate duplicate rows\n",
    "df.duplicated().sum()"
   ]
  },
  {
   "cell_type": "code",
   "execution_count": 7,
   "id": "6198185a",
   "metadata": {},
   "outputs": [],
   "source": [
    "# Drop Duplicate Rows\n",
    "df.drop_duplicates(keep='first', inplace=True)"
   ]
  },
  {
   "cell_type": "code",
   "execution_count": 8,
   "id": "f14d062c",
   "metadata": {},
   "outputs": [
    {
     "name": "stdout",
     "output_type": "stream",
     "text": [
      "(87396, 32)\n",
      "(119390, 32)\n"
     ]
    }
   ],
   "source": [
    "# Recheck duplicate rows\n",
    "df.duplicated().sum()\n",
    "print(df.shape)\n",
    "print(df_init.shape)"
   ]
  },
  {
   "cell_type": "markdown",
   "id": "358b9ca8",
   "metadata": {},
   "source": [
    "#### Missing Values"
   ]
  },
  {
   "cell_type": "code",
   "execution_count": 9,
   "id": "ed333cbd",
   "metadata": {},
   "outputs": [
    {
     "data": {
      "text/plain": [
       "company                           82137\n",
       "agent                             12193\n",
       "country                             452\n",
       "children                              4\n",
       "reserved_room_type                    0\n",
       "assigned_room_type                    0\n",
       "booking_changes                       0\n",
       "deposit_type                          0\n",
       "hotel                                 0\n",
       "previous_cancellations                0\n",
       "days_in_waiting_list                  0\n",
       "customer_type                         0\n",
       "adr                                   0\n",
       "required_car_parking_spaces           0\n",
       "total_of_special_requests             0\n",
       "reservation_status                    0\n",
       "previous_bookings_not_canceled        0\n",
       "is_repeated_guest                     0\n",
       "is_canceled                           0\n",
       "distribution_channel                  0\n",
       "market_segment                        0\n",
       "meal                                  0\n",
       "babies                                0\n",
       "adults                                0\n",
       "stays_in_week_nights                  0\n",
       "stays_in_weekend_nights               0\n",
       "arrival_date_day_of_month             0\n",
       "arrival_date_week_number              0\n",
       "arrival_date_month                    0\n",
       "arrival_date_year                     0\n",
       "lead_time                             0\n",
       "reservation_status_date               0\n",
       "dtype: int64"
      ]
     },
     "execution_count": 9,
     "metadata": {},
     "output_type": "execute_result"
    }
   ],
   "source": [
    "a = (df.isnull().sum()).sort_values(ascending = False)\n",
    "a"
   ]
  },
  {
   "cell_type": "code",
   "execution_count": 10,
   "id": "ef5d7086",
   "metadata": {},
   "outputs": [
    {
     "data": {
      "text/plain": [
       "company     82137\n",
       "agent       12193\n",
       "country       452\n",
       "children        4\n",
       "dtype: int64"
      ]
     },
     "execution_count": 10,
     "metadata": {},
     "output_type": "execute_result"
    }
   ],
   "source": [
    "# Columnw with missing values\n",
    "b = a[a!=0]\n",
    "b"
   ]
  },
  {
   "cell_type": "code",
   "execution_count": 11,
   "id": "72c3ac49",
   "metadata": {},
   "outputs": [
    {
     "name": "stdout",
     "output_type": "stream",
     "text": [
      "company = 93.98 %\n",
      "agent = 13.95 %\n",
      "country = 0.52 %\n",
      "children = 0.0 %\n"
     ]
    }
   ],
   "source": [
    "cols = ['company','agent','country','children']\n",
    "for i in range(len(cols)):\n",
    "    print( cols[i] + \" = \" + str(round(100*df[cols[i]].isnull().sum()/df.shape[0],2)) + \" %\" )"
   ]
  },
  {
   "cell_type": "markdown",
   "id": "0b59ac23",
   "metadata": {},
   "source": [
    "Comapany - ID of the company/entity that made the booking or responsible for paying the booking.\n",
    "\n",
    "Company has 93.98% missing values. So dropping company column"
   ]
  },
  {
   "cell_type": "code",
   "execution_count": 12,
   "id": "dd8768a5",
   "metadata": {},
   "outputs": [
    {
     "data": {
      "text/plain": [
       "count    75203.000000\n",
       "mean        94.138306\n",
       "std        113.188172\n",
       "min          1.000000\n",
       "25%          9.000000\n",
       "50%         14.000000\n",
       "75%        240.000000\n",
       "max        535.000000\n",
       "Name: agent, dtype: float64"
      ]
     },
     "execution_count": 12,
     "metadata": {},
     "output_type": "execute_result"
    }
   ],
   "source": [
    "df['agent'].describe()"
   ]
  },
  {
   "cell_type": "code",
   "execution_count": 13,
   "id": "a47699b4",
   "metadata": {},
   "outputs": [
    {
     "data": {
      "text/plain": [
       "333"
      ]
     },
     "execution_count": 13,
     "metadata": {},
     "output_type": "execute_result"
    }
   ],
   "source": [
    "df['agent'].nunique()"
   ]
  },
  {
   "cell_type": "markdown",
   "id": "2898412e",
   "metadata": {},
   "source": [
    "Agent - ID of the travel agency that made the booking\n",
    "Agent has 13.95% missing values. Could delete rows, but there are hundreds of unique agent codes, that may not contribute much. So dropping agent."
   ]
  },
  {
   "cell_type": "code",
   "execution_count": 14,
   "id": "9c716f0e",
   "metadata": {},
   "outputs": [
    {
     "data": {
      "text/plain": [
       "(87396, 30)"
      ]
     },
     "execution_count": 14,
     "metadata": {},
     "output_type": "execute_result"
    }
   ],
   "source": [
    "df.drop([\"company\", \"agent\"], axis=1, inplace=True)\n",
    "df.shape"
   ]
  },
  {
   "cell_type": "markdown",
   "id": "a1995c30",
   "metadata": {},
   "source": [
    "Columns country and children have very small % of missing values, can delete just the rows with missing value."
   ]
  },
  {
   "cell_type": "code",
   "execution_count": 15,
   "id": "2faac40b",
   "metadata": {},
   "outputs": [
    {
     "name": "stdout",
     "output_type": "stream",
     "text": [
      "(86940, 30)\n"
     ]
    }
   ],
   "source": [
    "# Shape of data after handling missing values\n",
    "df = df.dropna()\n",
    "print(df.shape)\n"
   ]
  },
  {
   "cell_type": "code",
   "execution_count": 16,
   "id": "6b835ab9",
   "metadata": {},
   "outputs": [
    {
     "data": {
      "text/plain": [
       "0"
      ]
     },
     "execution_count": 16,
     "metadata": {},
     "output_type": "execute_result"
    }
   ],
   "source": [
    "#Recheck missing value\n",
    "a = (df.isnull().sum()).sort_values(ascending = False)\n",
    "max(a)"
   ]
  },
  {
   "cell_type": "code",
   "execution_count": 17,
   "id": "b6db8943",
   "metadata": {},
   "outputs": [
    {
     "data": {
      "text/plain": [
       "0        2015-07-01\n",
       "1        2015-07-01\n",
       "2        2015-07-01\n",
       "3        2015-07-01\n",
       "4        2015-07-01\n",
       "            ...    \n",
       "119385   2017-08-30\n",
       "119386   2017-08-31\n",
       "119387   2017-08-31\n",
       "119388   2017-08-31\n",
       "119389   2017-08-29\n",
       "Name: arrival_date, Length: 86940, dtype: datetime64[ns]"
      ]
     },
     "execution_count": 17,
     "metadata": {},
     "output_type": "execute_result"
    }
   ],
   "source": [
    "cols = ['arrival_date_day_of_month', 'arrival_date_month', 'arrival_date_year']\n",
    "df['arrival_date'] = df[cols].apply(lambda row: '/'.join(row.values.astype(str)), axis=1)\n",
    "df['arrival_date'] = pd.to_datetime(df['arrival_date'],errors = 'coerce')\n",
    "df['arrival_date']\n",
    "\n",
    "\n"
   ]
  },
  {
   "cell_type": "markdown",
   "id": "0befd6a3",
   "metadata": {},
   "source": [
    "#### Check Data types"
   ]
  },
  {
   "cell_type": "code",
   "execution_count": 18,
   "id": "44979edf",
   "metadata": {},
   "outputs": [
    {
     "data": {
      "text/html": [
       "<div>\n",
       "<style scoped>\n",
       "    .dataframe tbody tr th:only-of-type {\n",
       "        vertical-align: middle;\n",
       "    }\n",
       "\n",
       "    .dataframe tbody tr th {\n",
       "        vertical-align: top;\n",
       "    }\n",
       "\n",
       "    .dataframe thead th {\n",
       "        text-align: right;\n",
       "    }\n",
       "</style>\n",
       "<table border=\"1\" class=\"dataframe\">\n",
       "  <thead>\n",
       "    <tr style=\"text-align: right;\">\n",
       "      <th></th>\n",
       "      <th>hotel</th>\n",
       "      <th>is_canceled</th>\n",
       "      <th>lead_time</th>\n",
       "      <th>arrival_date_year</th>\n",
       "      <th>arrival_date_month</th>\n",
       "      <th>arrival_date_week_number</th>\n",
       "      <th>arrival_date_day_of_month</th>\n",
       "      <th>stays_in_weekend_nights</th>\n",
       "      <th>stays_in_week_nights</th>\n",
       "      <th>adults</th>\n",
       "      <th>children</th>\n",
       "      <th>babies</th>\n",
       "      <th>meal</th>\n",
       "      <th>country</th>\n",
       "      <th>market_segment</th>\n",
       "      <th>distribution_channel</th>\n",
       "      <th>is_repeated_guest</th>\n",
       "      <th>previous_cancellations</th>\n",
       "      <th>previous_bookings_not_canceled</th>\n",
       "      <th>reserved_room_type</th>\n",
       "      <th>assigned_room_type</th>\n",
       "      <th>booking_changes</th>\n",
       "      <th>deposit_type</th>\n",
       "      <th>days_in_waiting_list</th>\n",
       "      <th>customer_type</th>\n",
       "      <th>adr</th>\n",
       "      <th>required_car_parking_spaces</th>\n",
       "      <th>total_of_special_requests</th>\n",
       "      <th>reservation_status</th>\n",
       "      <th>reservation_status_date</th>\n",
       "      <th>arrival_date</th>\n",
       "    </tr>\n",
       "  </thead>\n",
       "  <tbody>\n",
       "    <tr>\n",
       "      <th>0</th>\n",
       "      <td>Resort Hotel</td>\n",
       "      <td>0</td>\n",
       "      <td>342</td>\n",
       "      <td>2015</td>\n",
       "      <td>July</td>\n",
       "      <td>27</td>\n",
       "      <td>1</td>\n",
       "      <td>0</td>\n",
       "      <td>0</td>\n",
       "      <td>2</td>\n",
       "      <td>0.0</td>\n",
       "      <td>0</td>\n",
       "      <td>BB</td>\n",
       "      <td>PRT</td>\n",
       "      <td>Direct</td>\n",
       "      <td>Direct</td>\n",
       "      <td>0</td>\n",
       "      <td>0</td>\n",
       "      <td>0</td>\n",
       "      <td>C</td>\n",
       "      <td>C</td>\n",
       "      <td>3</td>\n",
       "      <td>No Deposit</td>\n",
       "      <td>0</td>\n",
       "      <td>Transient</td>\n",
       "      <td>0.0</td>\n",
       "      <td>0</td>\n",
       "      <td>0</td>\n",
       "      <td>Check-Out</td>\n",
       "      <td>7/1/2015</td>\n",
       "      <td>2015-07-01</td>\n",
       "    </tr>\n",
       "    <tr>\n",
       "      <th>1</th>\n",
       "      <td>Resort Hotel</td>\n",
       "      <td>0</td>\n",
       "      <td>737</td>\n",
       "      <td>2015</td>\n",
       "      <td>July</td>\n",
       "      <td>27</td>\n",
       "      <td>1</td>\n",
       "      <td>0</td>\n",
       "      <td>0</td>\n",
       "      <td>2</td>\n",
       "      <td>0.0</td>\n",
       "      <td>0</td>\n",
       "      <td>BB</td>\n",
       "      <td>PRT</td>\n",
       "      <td>Direct</td>\n",
       "      <td>Direct</td>\n",
       "      <td>0</td>\n",
       "      <td>0</td>\n",
       "      <td>0</td>\n",
       "      <td>C</td>\n",
       "      <td>C</td>\n",
       "      <td>4</td>\n",
       "      <td>No Deposit</td>\n",
       "      <td>0</td>\n",
       "      <td>Transient</td>\n",
       "      <td>0.0</td>\n",
       "      <td>0</td>\n",
       "      <td>0</td>\n",
       "      <td>Check-Out</td>\n",
       "      <td>7/1/2015</td>\n",
       "      <td>2015-07-01</td>\n",
       "    </tr>\n",
       "    <tr>\n",
       "      <th>2</th>\n",
       "      <td>Resort Hotel</td>\n",
       "      <td>0</td>\n",
       "      <td>7</td>\n",
       "      <td>2015</td>\n",
       "      <td>July</td>\n",
       "      <td>27</td>\n",
       "      <td>1</td>\n",
       "      <td>0</td>\n",
       "      <td>1</td>\n",
       "      <td>1</td>\n",
       "      <td>0.0</td>\n",
       "      <td>0</td>\n",
       "      <td>BB</td>\n",
       "      <td>GBR</td>\n",
       "      <td>Direct</td>\n",
       "      <td>Direct</td>\n",
       "      <td>0</td>\n",
       "      <td>0</td>\n",
       "      <td>0</td>\n",
       "      <td>A</td>\n",
       "      <td>C</td>\n",
       "      <td>0</td>\n",
       "      <td>No Deposit</td>\n",
       "      <td>0</td>\n",
       "      <td>Transient</td>\n",
       "      <td>75.0</td>\n",
       "      <td>0</td>\n",
       "      <td>0</td>\n",
       "      <td>Check-Out</td>\n",
       "      <td>7/2/2015</td>\n",
       "      <td>2015-07-01</td>\n",
       "    </tr>\n",
       "    <tr>\n",
       "      <th>3</th>\n",
       "      <td>Resort Hotel</td>\n",
       "      <td>0</td>\n",
       "      <td>13</td>\n",
       "      <td>2015</td>\n",
       "      <td>July</td>\n",
       "      <td>27</td>\n",
       "      <td>1</td>\n",
       "      <td>0</td>\n",
       "      <td>1</td>\n",
       "      <td>1</td>\n",
       "      <td>0.0</td>\n",
       "      <td>0</td>\n",
       "      <td>BB</td>\n",
       "      <td>GBR</td>\n",
       "      <td>Corporate</td>\n",
       "      <td>Corporate</td>\n",
       "      <td>0</td>\n",
       "      <td>0</td>\n",
       "      <td>0</td>\n",
       "      <td>A</td>\n",
       "      <td>A</td>\n",
       "      <td>0</td>\n",
       "      <td>No Deposit</td>\n",
       "      <td>0</td>\n",
       "      <td>Transient</td>\n",
       "      <td>75.0</td>\n",
       "      <td>0</td>\n",
       "      <td>0</td>\n",
       "      <td>Check-Out</td>\n",
       "      <td>7/2/2015</td>\n",
       "      <td>2015-07-01</td>\n",
       "    </tr>\n",
       "    <tr>\n",
       "      <th>4</th>\n",
       "      <td>Resort Hotel</td>\n",
       "      <td>0</td>\n",
       "      <td>14</td>\n",
       "      <td>2015</td>\n",
       "      <td>July</td>\n",
       "      <td>27</td>\n",
       "      <td>1</td>\n",
       "      <td>0</td>\n",
       "      <td>2</td>\n",
       "      <td>2</td>\n",
       "      <td>0.0</td>\n",
       "      <td>0</td>\n",
       "      <td>BB</td>\n",
       "      <td>GBR</td>\n",
       "      <td>Online TA</td>\n",
       "      <td>TA/TO</td>\n",
       "      <td>0</td>\n",
       "      <td>0</td>\n",
       "      <td>0</td>\n",
       "      <td>A</td>\n",
       "      <td>A</td>\n",
       "      <td>0</td>\n",
       "      <td>No Deposit</td>\n",
       "      <td>0</td>\n",
       "      <td>Transient</td>\n",
       "      <td>98.0</td>\n",
       "      <td>0</td>\n",
       "      <td>1</td>\n",
       "      <td>Check-Out</td>\n",
       "      <td>7/3/2015</td>\n",
       "      <td>2015-07-01</td>\n",
       "    </tr>\n",
       "  </tbody>\n",
       "</table>\n",
       "</div>"
      ],
      "text/plain": [
       "          hotel  is_canceled  lead_time  arrival_date_year arrival_date_month  \\\n",
       "0  Resort Hotel            0        342               2015               July   \n",
       "1  Resort Hotel            0        737               2015               July   \n",
       "2  Resort Hotel            0          7               2015               July   \n",
       "3  Resort Hotel            0         13               2015               July   \n",
       "4  Resort Hotel            0         14               2015               July   \n",
       "\n",
       "   arrival_date_week_number  arrival_date_day_of_month  \\\n",
       "0                        27                          1   \n",
       "1                        27                          1   \n",
       "2                        27                          1   \n",
       "3                        27                          1   \n",
       "4                        27                          1   \n",
       "\n",
       "   stays_in_weekend_nights  stays_in_week_nights  adults  children  babies  \\\n",
       "0                        0                     0       2       0.0       0   \n",
       "1                        0                     0       2       0.0       0   \n",
       "2                        0                     1       1       0.0       0   \n",
       "3                        0                     1       1       0.0       0   \n",
       "4                        0                     2       2       0.0       0   \n",
       "\n",
       "  meal country market_segment distribution_channel  is_repeated_guest  \\\n",
       "0   BB     PRT         Direct               Direct                  0   \n",
       "1   BB     PRT         Direct               Direct                  0   \n",
       "2   BB     GBR         Direct               Direct                  0   \n",
       "3   BB     GBR      Corporate            Corporate                  0   \n",
       "4   BB     GBR      Online TA                TA/TO                  0   \n",
       "\n",
       "   previous_cancellations  previous_bookings_not_canceled reserved_room_type  \\\n",
       "0                       0                               0                  C   \n",
       "1                       0                               0                  C   \n",
       "2                       0                               0                  A   \n",
       "3                       0                               0                  A   \n",
       "4                       0                               0                  A   \n",
       "\n",
       "  assigned_room_type  booking_changes deposit_type  days_in_waiting_list  \\\n",
       "0                  C                3   No Deposit                     0   \n",
       "1                  C                4   No Deposit                     0   \n",
       "2                  C                0   No Deposit                     0   \n",
       "3                  A                0   No Deposit                     0   \n",
       "4                  A                0   No Deposit                     0   \n",
       "\n",
       "  customer_type   adr  required_car_parking_spaces  total_of_special_requests  \\\n",
       "0     Transient   0.0                            0                          0   \n",
       "1     Transient   0.0                            0                          0   \n",
       "2     Transient  75.0                            0                          0   \n",
       "3     Transient  75.0                            0                          0   \n",
       "4     Transient  98.0                            0                          1   \n",
       "\n",
       "  reservation_status reservation_status_date arrival_date  \n",
       "0          Check-Out                7/1/2015   2015-07-01  \n",
       "1          Check-Out                7/1/2015   2015-07-01  \n",
       "2          Check-Out                7/2/2015   2015-07-01  \n",
       "3          Check-Out                7/2/2015   2015-07-01  \n",
       "4          Check-Out                7/3/2015   2015-07-01  "
      ]
     },
     "execution_count": 18,
     "metadata": {},
     "output_type": "execute_result"
    }
   ],
   "source": [
    "df.head()"
   ]
  },
  {
   "cell_type": "code",
   "execution_count": 19,
   "id": "b9895df5",
   "metadata": {},
   "outputs": [
    {
     "name": "stdout",
     "output_type": "stream",
     "text": [
      "<class 'pandas.core.frame.DataFrame'>\n",
      "Int64Index: 86940 entries, 0 to 119389\n",
      "Data columns (total 31 columns):\n",
      " #   Column                          Non-Null Count  Dtype         \n",
      "---  ------                          --------------  -----         \n",
      " 0   hotel                           86940 non-null  object        \n",
      " 1   is_canceled                     86940 non-null  int64         \n",
      " 2   lead_time                       86940 non-null  int64         \n",
      " 3   arrival_date_year               86940 non-null  int64         \n",
      " 4   arrival_date_month              86940 non-null  object        \n",
      " 5   arrival_date_week_number        86940 non-null  int64         \n",
      " 6   arrival_date_day_of_month       86940 non-null  int64         \n",
      " 7   stays_in_weekend_nights         86940 non-null  int64         \n",
      " 8   stays_in_week_nights            86940 non-null  int64         \n",
      " 9   adults                          86940 non-null  int64         \n",
      " 10  children                        86940 non-null  float64       \n",
      " 11  babies                          86940 non-null  int64         \n",
      " 12  meal                            86940 non-null  object        \n",
      " 13  country                         86940 non-null  object        \n",
      " 14  market_segment                  86940 non-null  object        \n",
      " 15  distribution_channel            86940 non-null  object        \n",
      " 16  is_repeated_guest               86940 non-null  int64         \n",
      " 17  previous_cancellations          86940 non-null  int64         \n",
      " 18  previous_bookings_not_canceled  86940 non-null  int64         \n",
      " 19  reserved_room_type              86940 non-null  object        \n",
      " 20  assigned_room_type              86940 non-null  object        \n",
      " 21  booking_changes                 86940 non-null  int64         \n",
      " 22  deposit_type                    86940 non-null  object        \n",
      " 23  days_in_waiting_list            86940 non-null  int64         \n",
      " 24  customer_type                   86940 non-null  object        \n",
      " 25  adr                             86940 non-null  float64       \n",
      " 26  required_car_parking_spaces     86940 non-null  int64         \n",
      " 27  total_of_special_requests       86940 non-null  int64         \n",
      " 28  reservation_status              86940 non-null  object        \n",
      " 29  reservation_status_date         86940 non-null  object        \n",
      " 30  arrival_date                    86940 non-null  datetime64[ns]\n",
      "dtypes: datetime64[ns](1), float64(2), int64(16), object(12)\n",
      "memory usage: 21.2+ MB\n"
     ]
    }
   ],
   "source": [
    "df.info()"
   ]
  },
  {
   "cell_type": "code",
   "execution_count": 20,
   "id": "bed8189e",
   "metadata": {},
   "outputs": [],
   "source": [
    "#Changiing data type of resereservation_status_date\n",
    "df['reservation_status_date']= pd.to_datetime(df['reservation_status_date'], format='%m/%d/%Y')"
   ]
  },
  {
   "cell_type": "code",
   "execution_count": 21,
   "id": "99e9437a",
   "metadata": {},
   "outputs": [
    {
     "name": "stdout",
     "output_type": "stream",
     "text": [
      "<class 'pandas.core.frame.DataFrame'>\n",
      "Int64Index: 86940 entries, 0 to 119389\n",
      "Data columns (total 31 columns):\n",
      " #   Column                          Non-Null Count  Dtype         \n",
      "---  ------                          --------------  -----         \n",
      " 0   hotel                           86940 non-null  object        \n",
      " 1   is_canceled                     86940 non-null  int64         \n",
      " 2   lead_time                       86940 non-null  int64         \n",
      " 3   arrival_date_year               86940 non-null  int64         \n",
      " 4   arrival_date_month              86940 non-null  object        \n",
      " 5   arrival_date_week_number        86940 non-null  int64         \n",
      " 6   arrival_date_day_of_month       86940 non-null  int64         \n",
      " 7   stays_in_weekend_nights         86940 non-null  int64         \n",
      " 8   stays_in_week_nights            86940 non-null  int64         \n",
      " 9   adults                          86940 non-null  int64         \n",
      " 10  children                        86940 non-null  float64       \n",
      " 11  babies                          86940 non-null  int64         \n",
      " 12  meal                            86940 non-null  object        \n",
      " 13  country                         86940 non-null  object        \n",
      " 14  market_segment                  86940 non-null  object        \n",
      " 15  distribution_channel            86940 non-null  object        \n",
      " 16  is_repeated_guest               86940 non-null  int64         \n",
      " 17  previous_cancellations          86940 non-null  int64         \n",
      " 18  previous_bookings_not_canceled  86940 non-null  int64         \n",
      " 19  reserved_room_type              86940 non-null  object        \n",
      " 20  assigned_room_type              86940 non-null  object        \n",
      " 21  booking_changes                 86940 non-null  int64         \n",
      " 22  deposit_type                    86940 non-null  object        \n",
      " 23  days_in_waiting_list            86940 non-null  int64         \n",
      " 24  customer_type                   86940 non-null  object        \n",
      " 25  adr                             86940 non-null  float64       \n",
      " 26  required_car_parking_spaces     86940 non-null  int64         \n",
      " 27  total_of_special_requests       86940 non-null  int64         \n",
      " 28  reservation_status              86940 non-null  object        \n",
      " 29  reservation_status_date         86940 non-null  datetime64[ns]\n",
      " 30  arrival_date                    86940 non-null  datetime64[ns]\n",
      "dtypes: datetime64[ns](2), float64(2), int64(16), object(11)\n",
      "memory usage: 21.2+ MB\n"
     ]
    }
   ],
   "source": [
    "df.info()"
   ]
  },
  {
   "cell_type": "markdown",
   "id": "e8be867e",
   "metadata": {},
   "source": [
    "#### Check Individual Columns"
   ]
  },
  {
   "cell_type": "code",
   "execution_count": 22,
   "id": "f6e59e36",
   "metadata": {},
   "outputs": [
    {
     "data": {
      "text/plain": [
       "hotel                                2\n",
       "is_canceled                          2\n",
       "lead_time                          479\n",
       "arrival_date_year                    3\n",
       "arrival_date_month                  12\n",
       "arrival_date_week_number            53\n",
       "arrival_date_day_of_month           31\n",
       "stays_in_weekend_nights             15\n",
       "stays_in_week_nights                33\n",
       "adults                              14\n",
       "children                             5\n",
       "babies                               5\n",
       "meal                                 5\n",
       "country                            177\n",
       "market_segment                       7\n",
       "distribution_channel                 5\n",
       "is_repeated_guest                    2\n",
       "previous_cancellations              15\n",
       "previous_bookings_not_canceled      73\n",
       "reserved_room_type                  10\n",
       "assigned_room_type                  12\n",
       "booking_changes                     21\n",
       "deposit_type                         3\n",
       "days_in_waiting_list               128\n",
       "customer_type                        4\n",
       "adr                               8870\n",
       "required_car_parking_spaces          5\n",
       "total_of_special_requests            6\n",
       "reservation_status                   3\n",
       "reservation_status_date            926\n",
       "arrival_date                       793\n",
       "dtype: int64"
      ]
     },
     "execution_count": 22,
     "metadata": {},
     "output_type": "execute_result"
    }
   ],
   "source": [
    "df.nunique()"
   ]
  },
  {
   "cell_type": "code",
   "execution_count": 23,
   "id": "90f79cc6",
   "metadata": {},
   "outputs": [
    {
     "data": {
      "text/plain": [
       "Index(['hotel', 'is_canceled', 'lead_time', 'arrival_date_year',\n",
       "       'arrival_date_month', 'arrival_date_week_number',\n",
       "       'arrival_date_day_of_month', 'stays_in_weekend_nights',\n",
       "       'stays_in_week_nights', 'adults', 'children', 'babies', 'meal',\n",
       "       'country', 'market_segment', 'distribution_channel',\n",
       "       'is_repeated_guest', 'previous_cancellations',\n",
       "       'previous_bookings_not_canceled', 'reserved_room_type',\n",
       "       'assigned_room_type', 'booking_changes', 'deposit_type',\n",
       "       'days_in_waiting_list', 'customer_type', 'adr',\n",
       "       'required_car_parking_spaces', 'total_of_special_requests',\n",
       "       'reservation_status', 'reservation_status_date', 'arrival_date'],\n",
       "      dtype='object')"
      ]
     },
     "execution_count": 23,
     "metadata": {},
     "output_type": "execute_result"
    }
   ],
   "source": [
    "df.columns"
   ]
  },
  {
   "cell_type": "code",
   "execution_count": 24,
   "id": "e26440e7",
   "metadata": {},
   "outputs": [
    {
     "name": "stdout",
     "output_type": "stream",
     "text": [
      "City Hotel      53418\n",
      "Resort Hotel    33522\n",
      "Name: hotel, dtype: int64\n"
     ]
    }
   ],
   "source": [
    "# Hotel (H1 = Resort Hotel or H2 = City Hotel) \n",
    "df['hotel'].describe()\n",
    "print(df.hotel.value_counts())"
   ]
  },
  {
   "cell_type": "code",
   "execution_count": 25,
   "id": "9b71cf45",
   "metadata": {},
   "outputs": [
    {
     "data": {
      "text/plain": [
       "City_Hotel      53418\n",
       "Resort_Hotel    33522\n",
       "Name: hotel, dtype: int64"
      ]
     },
     "execution_count": 25,
     "metadata": {},
     "output_type": "execute_result"
    }
   ],
   "source": [
    "df['hotel'] = df['hotel'].str.strip().str.replace(' ', '_')\n",
    "df.hotel.value_counts()"
   ]
  },
  {
   "cell_type": "code",
   "execution_count": 26,
   "id": "4abf25f1",
   "metadata": {},
   "outputs": [
    {
     "name": "stdout",
     "output_type": "stream",
     "text": [
      "0    62953\n",
      "1    23987\n",
      "Name: is_canceled, dtype: int64\n"
     ]
    }
   ],
   "source": [
    "\n",
    "#is_canceled - Value indicating if the booking was canceled (1) or not (0)\n",
    "df['is_canceled'].describe()\n",
    "print(df.is_canceled.value_counts())"
   ]
  },
  {
   "cell_type": "markdown",
   "id": "f6196f7b",
   "metadata": {},
   "source": [
    "Just 2 categories, no outliers."
   ]
  },
  {
   "cell_type": "markdown",
   "id": "b0d448db",
   "metadata": {},
   "source": [
    "##### lead_time"
   ]
  },
  {
   "cell_type": "code",
   "execution_count": 27,
   "id": "bf554f4b",
   "metadata": {},
   "outputs": [
    {
     "data": {
      "text/plain": [
       "count    86940.000000\n",
       "mean        80.193375\n",
       "std         86.100147\n",
       "min          0.000000\n",
       "25%         12.000000\n",
       "50%         50.000000\n",
       "75%        125.000000\n",
       "max        737.000000\n",
       "Name: lead_time, dtype: float64"
      ]
     },
     "execution_count": 27,
     "metadata": {},
     "output_type": "execute_result"
    }
   ],
   "source": [
    "#lead_time - Number of days that elapsed between the entering date of the booking into the PMS and the arrival date.\n",
    "df['lead_time'].describe()"
   ]
  },
  {
   "cell_type": "markdown",
   "id": "9af4e6dd",
   "metadata": {},
   "source": [
    "Booking 737 days i.e more than 2 years before actual visitng the hotel seems weird."
   ]
  },
  {
   "cell_type": "code",
   "execution_count": 28,
   "id": "d9a39e4d",
   "metadata": {},
   "outputs": [
    {
     "data": {
      "text/plain": [
       "array([204., 220., 242., 272., 316., 347., 386., 479.])"
      ]
     },
     "execution_count": 28,
     "metadata": {},
     "output_type": "execute_result"
    }
   ],
   "source": [
    "#Checking percentiles w.r.t lead_time\n",
    "Q9 = np.percentile(df['lead_time'] , [90,92,94,96,98,99,99.5,99.9])\n",
    "Q9"
   ]
  },
  {
   "cell_type": "markdown",
   "id": "3fc55d83",
   "metadata": {},
   "source": [
    "Even though the maximum lead_time is more than 2 years, more than 99% of the data is within the 1 year period.\n"
   ]
  },
  {
   "cell_type": "code",
   "execution_count": 29,
   "id": "96bacbd7",
   "metadata": {},
   "outputs": [
    {
     "name": "stdout",
     "output_type": "stream",
     "text": [
      "(565, 31)\n"
     ]
    },
    {
     "data": {
      "text/plain": [
       "hotel                               2\n",
       "is_canceled                         2\n",
       "lead_time                         113\n",
       "arrival_date_year                   3\n",
       "arrival_date_month                 12\n",
       "arrival_date_week_number           52\n",
       "arrival_date_day_of_month          31\n",
       "stays_in_weekend_nights             7\n",
       "stays_in_week_nights               13\n",
       "adults                              4\n",
       "children                            3\n",
       "babies                              2\n",
       "meal                                3\n",
       "country                            19\n",
       "market_segment                      5\n",
       "distribution_channel                3\n",
       "is_repeated_guest                   1\n",
       "previous_cancellations              2\n",
       "previous_bookings_not_canceled      4\n",
       "reserved_room_type                  6\n",
       "assigned_room_type                  9\n",
       "booking_changes                     7\n",
       "deposit_type                        3\n",
       "days_in_waiting_list                6\n",
       "customer_type                       4\n",
       "adr                               124\n",
       "required_car_parking_spaces         3\n",
       "total_of_special_requests           4\n",
       "reservation_status                  3\n",
       "reservation_status_date           145\n",
       "arrival_date                      152\n",
       "dtype: int64"
      ]
     },
     "execution_count": 29,
     "metadata": {},
     "output_type": "execute_result"
    }
   ],
   "source": [
    "print(df[df['lead_time'] > 365].shape)\n",
    "df[df['lead_time'] > 365].nunique()"
   ]
  },
  {
   "cell_type": "markdown",
   "id": "a39d26c6",
   "metadata": {},
   "source": [
    "For 565 entries having lead_time greater than 365 days, there are only 152 arrival dates. This fact along with a preliminary look at the data suggest that a lot of entries are made on few days meaning that this subset of data consists of a lot of group of families/people as compared to individual families/people."
   ]
  },
  {
   "cell_type": "code",
   "execution_count": 30,
   "id": "82819b00",
   "metadata": {},
   "outputs": [
    {
     "data": {
      "text/plain": [
       "0    334\n",
       "1    231\n",
       "Name: is_canceled, dtype: int64"
      ]
     },
     "execution_count": 30,
     "metadata": {},
     "output_type": "execute_result"
    }
   ],
   "source": [
    "#df[df['lead_time'] > 365]['is_canceled'].values().count()\n",
    "df[df['lead_time'] > 365].is_canceled.value_counts()"
   ]
  },
  {
   "cell_type": "markdown",
   "id": "f54c72f0",
   "metadata": {},
   "source": [
    "Also, 231 entries i.e 40% of entries with lead time > 365 days, cancelled the booking. "
   ]
  },
  {
   "cell_type": "code",
   "execution_count": 31,
   "id": "fdc1e748",
   "metadata": {},
   "outputs": [
    {
     "data": {
      "text/plain": [
       "386    45\n",
       "383    30\n",
       "468    23\n",
       "423    18\n",
       "542    17\n",
       "       ..\n",
       "467     1\n",
       "471     1\n",
       "493     1\n",
       "424     1\n",
       "737     1\n",
       "Name: lead_time, Length: 113, dtype: int64"
      ]
     },
     "execution_count": 31,
     "metadata": {},
     "output_type": "execute_result"
    }
   ],
   "source": [
    "#Lead time > 365\n",
    "df[df['lead_time'] > 365].lead_time.value_counts()"
   ]
  },
  {
   "cell_type": "code",
   "execution_count": 32,
   "id": "aa3051ca",
   "metadata": {},
   "outputs": [
    {
     "data": {
      "text/plain": [
       "386    36\n",
       "383    29\n",
       "542    17\n",
       "423    15\n",
       "468    13\n",
       "409    11\n",
       "395    11\n",
       "396    10\n",
       "457     9\n",
       "434     9\n",
       "465     9\n",
       "414     9\n",
       "448     8\n",
       "377     8\n",
       "388     8\n",
       "405     8\n",
       "462     8\n",
       "385     7\n",
       "504     7\n",
       "451     7\n",
       "479     7\n",
       "422     6\n",
       "397     6\n",
       "418     6\n",
       "379     5\n",
       "394     5\n",
       "476     5\n",
       "367     4\n",
       "406     4\n",
       "429     3\n",
       "445     3\n",
       "464     3\n",
       "518     3\n",
       "390     3\n",
       "389     2\n",
       "384     2\n",
       "382     2\n",
       "381     2\n",
       "376     2\n",
       "366     2\n",
       "368     2\n",
       "460     2\n",
       "373     2\n",
       "408     1\n",
       "463     1\n",
       "709     1\n",
       "478     1\n",
       "737     1\n",
       "370     1\n",
       "454     1\n",
       "374     1\n",
       "407     1\n",
       "375     1\n",
       "424     1\n",
       "532     1\n",
       "400     1\n",
       "399     1\n",
       "Name: lead_time, dtype: int64"
      ]
     },
     "execution_count": 32,
     "metadata": {},
     "output_type": "execute_result"
    }
   ],
   "source": [
    "# Lead time > 365, is_canceled = 0\n",
    "df2 = df[(df['lead_time'] > 365) & (df['is_canceled'] == 0)].sort_values(by=['lead_time'], ascending = False)\n",
    "df2['lead_time'].value_counts()"
   ]
  },
  {
   "cell_type": "markdown",
   "id": "e28cab7c",
   "metadata": {},
   "source": [
    "#### Other columns"
   ]
  },
  {
   "cell_type": "code",
   "execution_count": 33,
   "id": "ff745940",
   "metadata": {},
   "outputs": [
    {
     "data": {
      "text/plain": [
       "Groups           178\n",
       "Offline TA/TO    151\n",
       "Online TA          2\n",
       "Direct             2\n",
       "Complementary      1\n",
       "Name: market_segment, dtype: int64"
      ]
     },
     "execution_count": 33,
     "metadata": {},
     "output_type": "execute_result"
    }
   ],
   "source": [
    "df2.market_segment.value_counts()"
   ]
  },
  {
   "cell_type": "code",
   "execution_count": 34,
   "id": "ce4256ea",
   "metadata": {},
   "outputs": [
    {
     "data": {
      "image/png": "[encoded data removed]",
      "text/plain": [
       "<Figure size 720x360 with 1 Axes>"
      ]
     },
     "metadata": {
      "needs_background": "light"
     },
     "output_type": "display_data"
    }
   ],
   "source": [
    "plt.figure(figsize = (10, 5))\n",
    "\n",
    "df1 = df[df['lead_time'] > 365]\n",
    "\n",
    "plt.hist(df2['market_segment'])\n",
    "\n",
    "plt.tight_layout()"
   ]
  },
  {
   "cell_type": "markdown",
   "id": "80cbf519",
   "metadata": {},
   "source": [
    "By analysis of the lead_time and the market_segment columns, it is verifed that most of the entries with lead_time > 365 are groups."
   ]
  },
  {
   "cell_type": "code",
   "execution_count": 35,
   "id": "97192b34",
   "metadata": {},
   "outputs": [
    {
     "data": {
      "text/plain": [
       "2016    42124\n",
       "2017    31616\n",
       "2015    13200\n",
       "Name: arrival_date_year, dtype: int64"
      ]
     },
     "execution_count": 35,
     "metadata": {},
     "output_type": "execute_result"
    }
   ],
   "source": [
    "df['arrival_date_year'].value_counts()"
   ]
  },
  {
   "cell_type": "code",
   "execution_count": 36,
   "id": "42ac61dc",
   "metadata": {},
   "outputs": [
    {
     "data": {
      "text/plain": [
       "August       11232\n",
       "July         10024\n",
       "May           8343\n",
       "April         7871\n",
       "June          7753\n",
       "March         7459\n",
       "October       6883\n",
       "September     6659\n",
       "February      6043\n",
       "December      5082\n",
       "November      4953\n",
       "January       4638\n",
       "Name: arrival_date_month, dtype: int64"
      ]
     },
     "execution_count": 36,
     "metadata": {},
     "output_type": "execute_result"
    }
   ],
   "source": [
    "df['arrival_date_month'].value_counts()"
   ]
  },
  {
   "cell_type": "code",
   "execution_count": 37,
   "id": "505604a7",
   "metadata": {},
   "outputs": [
    {
     "data": {
      "text/plain": [
       "33    2784\n",
       "34    2489\n",
       "32    2443\n",
       "28    2336\n",
       "30    2328\n",
       "31    2278\n",
       "29    2191\n",
       "27    2159\n",
       "35    2102\n",
       "18    2076\n",
       "21    2039\n",
       "15    1976\n",
       "17    1877\n",
       "23    1868\n",
       "20    1841\n",
       "13    1810\n",
       "19    1810\n",
       "25    1782\n",
       "22    1753\n",
       "24    1743\n",
       "26    1738\n",
       "16    1733\n",
       "14    1680\n",
       "41    1656\n",
       "11    1648\n",
       "38    1629\n",
       "10    1623\n",
       "7     1617\n",
       "36    1615\n",
       "43    1592\n",
       "39    1582\n",
       "9     1568\n",
       "12    1556\n",
       "44    1531\n",
       "8     1512\n",
       "37    1469\n",
       "42    1437\n",
       "40    1421\n",
       "53    1415\n",
       "45    1306\n",
       "6     1277\n",
       "47    1275\n",
       "48    1190\n",
       "49    1162\n",
       "46    1131\n",
       "4     1107\n",
       "5     1090\n",
       "52    1054\n",
       "50    1043\n",
       "3     1031\n",
       "2      940\n",
       "1      859\n",
       "51     768\n",
       "Name: arrival_date_week_number, dtype: int64"
      ]
     },
     "execution_count": 37,
     "metadata": {},
     "output_type": "execute_result"
    }
   ],
   "source": [
    "for a in df['arrival_date_week_number']:\n",
    "    if(a%1!=0):\n",
    "        print(\"not integer\")\n",
    "df['arrival_date_week_number'].value_counts()"
   ]
  },
  {
   "cell_type": "code",
   "execution_count": 38,
   "id": "b9cb6171",
   "metadata": {},
   "outputs": [
    {
     "data": {
      "text/plain": [
       "17    3004\n",
       "2     2998\n",
       "26    2990\n",
       "5     2967\n",
       "16    2939\n",
       "19    2938\n",
       "12    2919\n",
       "28    2910\n",
       "18    2908\n",
       "11    2906\n",
       "20    2903\n",
       "27    2887\n",
       "29    2867\n",
       "9     2864\n",
       "15    2848\n",
       "25    2822\n",
       "3     2812\n",
       "21    2810\n",
       "8     2797\n",
       "13    2791\n",
       "6     2787\n",
       "4     2785\n",
       "23    2768\n",
       "10    2767\n",
       "24    2762\n",
       "30    2756\n",
       "1     2753\n",
       "7     2696\n",
       "14    2673\n",
       "22    2589\n",
       "31    1724\n",
       "Name: arrival_date_day_of_month, dtype: int64"
      ]
     },
     "execution_count": 38,
     "metadata": {},
     "output_type": "execute_result"
    }
   ],
   "source": [
    "for a in df['arrival_date_day_of_month']:\n",
    "    if(a%1!=0):\n",
    "        print(\"not integer\")\n",
    "df['arrival_date_day_of_month'].value_counts()"
   ]
  },
  {
   "cell_type": "markdown",
   "id": "f2d7cb15",
   "metadata": {},
   "source": [
    "stays_in_weekend_nights - Number of weekend nights (Saturday or Sunday) the guest stayed or booked to stay at the hotel"
   ]
  },
  {
   "cell_type": "code",
   "execution_count": 39,
   "id": "424e626e",
   "metadata": {},
   "outputs": [
    {
     "data": {
      "text/plain": [
       "count    86940.000000\n",
       "mean         1.007396\n",
       "std          1.028763\n",
       "min          0.000000\n",
       "25%          0.000000\n",
       "50%          1.000000\n",
       "75%          2.000000\n",
       "max         16.000000\n",
       "Name: stays_in_weekend_nights, dtype: float64"
      ]
     },
     "execution_count": 39,
     "metadata": {},
     "output_type": "execute_result"
    }
   ],
   "source": [
    "#Check for non integer values\n",
    "for a in df['stays_in_weekend_nights']:\n",
    "    if(a%1!=0):\n",
    "        print(\"not integer\")\n",
    "df['stays_in_weekend_nights'].describe()"
   ]
  },
  {
   "cell_type": "code",
   "execution_count": 40,
   "id": "41671721",
   "metadata": {},
   "outputs": [
    {
     "data": {
      "text/plain": [
       "0     34854\n",
       "2     26369\n",
       "1     22558\n",
       "4      1728\n",
       "3      1144\n",
       "6       113\n",
       "5        69\n",
       "8        60\n",
       "7        15\n",
       "9        10\n",
       "10        7\n",
       "12        5\n",
       "13        3\n",
       "16        3\n",
       "14        2\n",
       "Name: stays_in_weekend_nights, dtype: int64"
      ]
     },
     "execution_count": 40,
     "metadata": {},
     "output_type": "execute_result"
    }
   ],
   "source": [
    "df['stays_in_weekend_nights'].value_counts()"
   ]
  },
  {
   "cell_type": "markdown",
   "id": "930e6886",
   "metadata": {},
   "source": [
    "Though 56.27% people stayed atleast 1 or 2 weekend nights, 34854 entries i.e 40% of total observations did not stay for a single weekend night."
   ]
  },
  {
   "cell_type": "markdown",
   "id": "000dd4c4",
   "metadata": {},
   "source": []
  },
  {
   "cell_type": "markdown",
   "id": "fb6d9501",
   "metadata": {},
   "source": [
    "stays_in_week_nights - Number of week nights (Saturday or Sunday) the guest stayed or booked to stay at the hotel"
   ]
  },
  {
   "cell_type": "code",
   "execution_count": 41,
   "id": "da20d161",
   "metadata": {},
   "outputs": [
    {
     "data": {
      "text/plain": [
       "count    86940.000000\n",
       "mean         2.628744\n",
       "std          2.043753\n",
       "min          0.000000\n",
       "25%          1.000000\n",
       "50%          2.000000\n",
       "75%          4.000000\n",
       "max         41.000000\n",
       "Name: stays_in_week_nights, dtype: float64"
      ]
     },
     "execution_count": 41,
     "metadata": {},
     "output_type": "execute_result"
    }
   ],
   "source": [
    "#Check for non integer values\n",
    "for a in df['stays_in_week_nights']:\n",
    "    if(a%1!=0):\n",
    "        print(\"not integer\")\n",
    "\n",
    "df['stays_in_week_nights'].describe()"
   ]
  },
  {
   "cell_type": "code",
   "execution_count": 42,
   "id": "b4c86d34",
   "metadata": {},
   "outputs": [
    {
     "data": {
      "text/plain": [
       "1     21974\n",
       "2     20635\n",
       "3     16221\n",
       "5      9647\n",
       "4      7865\n",
       "0      6129\n",
       "6      1371\n",
       "10      966\n",
       "7       965\n",
       "8       611\n",
       "9       219\n",
       "15       68\n",
       "11       49\n",
       "20       41\n",
       "12       40\n",
       "13       27\n",
       "14       25\n",
       "19       21\n",
       "21       15\n",
       "16       13\n",
       "22        7\n",
       "18        6\n",
       "25        6\n",
       "30        5\n",
       "17        4\n",
       "24        2\n",
       "40        2\n",
       "26        1\n",
       "32        1\n",
       "33        1\n",
       "34        1\n",
       "35        1\n",
       "41        1\n",
       "Name: stays_in_week_nights, dtype: int64"
      ]
     },
     "execution_count": 42,
     "metadata": {},
     "output_type": "execute_result"
    }
   ],
   "source": [
    "df['stays_in_week_nights'].value_counts()"
   ]
  },
  {
   "cell_type": "markdown",
   "id": "7612d3bb",
   "metadata": {},
   "source": [
    "I am adding the weekend and weekday columns to create a new columns that will have the total_stay. It will help in visualization and models. "
   ]
  },
  {
   "cell_type": "code",
   "execution_count": 43,
   "id": "8e2ed5f1",
   "metadata": {},
   "outputs": [
    {
     "data": {
      "text/html": [
       "<div>\n",
       "<style scoped>\n",
       "    .dataframe tbody tr th:only-of-type {\n",
       "        vertical-align: middle;\n",
       "    }\n",
       "\n",
       "    .dataframe tbody tr th {\n",
       "        vertical-align: top;\n",
       "    }\n",
       "\n",
       "    .dataframe thead th {\n",
       "        text-align: right;\n",
       "    }\n",
       "</style>\n",
       "<table border=\"1\" class=\"dataframe\">\n",
       "  <thead>\n",
       "    <tr style=\"text-align: right;\">\n",
       "      <th></th>\n",
       "      <th>hotel</th>\n",
       "      <th>is_canceled</th>\n",
       "      <th>lead_time</th>\n",
       "      <th>arrival_date_year</th>\n",
       "      <th>arrival_date_month</th>\n",
       "      <th>arrival_date_week_number</th>\n",
       "      <th>arrival_date_day_of_month</th>\n",
       "      <th>stays_in_weekend_nights</th>\n",
       "      <th>stays_in_week_nights</th>\n",
       "      <th>adults</th>\n",
       "      <th>children</th>\n",
       "      <th>babies</th>\n",
       "      <th>meal</th>\n",
       "      <th>country</th>\n",
       "      <th>market_segment</th>\n",
       "      <th>distribution_channel</th>\n",
       "      <th>is_repeated_guest</th>\n",
       "      <th>previous_cancellations</th>\n",
       "      <th>previous_bookings_not_canceled</th>\n",
       "      <th>reserved_room_type</th>\n",
       "      <th>assigned_room_type</th>\n",
       "      <th>booking_changes</th>\n",
       "      <th>deposit_type</th>\n",
       "      <th>days_in_waiting_list</th>\n",
       "      <th>customer_type</th>\n",
       "      <th>adr</th>\n",
       "      <th>required_car_parking_spaces</th>\n",
       "      <th>total_of_special_requests</th>\n",
       "      <th>reservation_status</th>\n",
       "      <th>reservation_status_date</th>\n",
       "      <th>arrival_date</th>\n",
       "      <th>total_stay</th>\n",
       "    </tr>\n",
       "  </thead>\n",
       "  <tbody>\n",
       "    <tr>\n",
       "      <th>0</th>\n",
       "      <td>Resort_Hotel</td>\n",
       "      <td>0</td>\n",
       "      <td>342</td>\n",
       "      <td>2015</td>\n",
       "      <td>July</td>\n",
       "      <td>27</td>\n",
       "      <td>1</td>\n",
       "      <td>0</td>\n",
       "      <td>0</td>\n",
       "      <td>2</td>\n",
       "      <td>0.0</td>\n",
       "      <td>0</td>\n",
       "      <td>BB</td>\n",
       "      <td>PRT</td>\n",
       "      <td>Direct</td>\n",
       "      <td>Direct</td>\n",
       "      <td>0</td>\n",
       "      <td>0</td>\n",
       "      <td>0</td>\n",
       "      <td>C</td>\n",
       "      <td>C</td>\n",
       "      <td>3</td>\n",
       "      <td>No Deposit</td>\n",
       "      <td>0</td>\n",
       "      <td>Transient</td>\n",
       "      <td>0.0</td>\n",
       "      <td>0</td>\n",
       "      <td>0</td>\n",
       "      <td>Check-Out</td>\n",
       "      <td>2015-07-01</td>\n",
       "      <td>2015-07-01</td>\n",
       "      <td>0</td>\n",
       "    </tr>\n",
       "    <tr>\n",
       "      <th>1</th>\n",
       "      <td>Resort_Hotel</td>\n",
       "      <td>0</td>\n",
       "      <td>737</td>\n",
       "      <td>2015</td>\n",
       "      <td>July</td>\n",
       "      <td>27</td>\n",
       "      <td>1</td>\n",
       "      <td>0</td>\n",
       "      <td>0</td>\n",
       "      <td>2</td>\n",
       "      <td>0.0</td>\n",
       "      <td>0</td>\n",
       "      <td>BB</td>\n",
       "      <td>PRT</td>\n",
       "      <td>Direct</td>\n",
       "      <td>Direct</td>\n",
       "      <td>0</td>\n",
       "      <td>0</td>\n",
       "      <td>0</td>\n",
       "      <td>C</td>\n",
       "      <td>C</td>\n",
       "      <td>4</td>\n",
       "      <td>No Deposit</td>\n",
       "      <td>0</td>\n",
       "      <td>Transient</td>\n",
       "      <td>0.0</td>\n",
       "      <td>0</td>\n",
       "      <td>0</td>\n",
       "      <td>Check-Out</td>\n",
       "      <td>2015-07-01</td>\n",
       "      <td>2015-07-01</td>\n",
       "      <td>0</td>\n",
       "    </tr>\n",
       "    <tr>\n",
       "      <th>2</th>\n",
       "      <td>Resort_Hotel</td>\n",
       "      <td>0</td>\n",
       "      <td>7</td>\n",
       "      <td>2015</td>\n",
       "      <td>July</td>\n",
       "      <td>27</td>\n",
       "      <td>1</td>\n",
       "      <td>0</td>\n",
       "      <td>1</td>\n",
       "      <td>1</td>\n",
       "      <td>0.0</td>\n",
       "      <td>0</td>\n",
       "      <td>BB</td>\n",
       "      <td>GBR</td>\n",
       "      <td>Direct</td>\n",
       "      <td>Direct</td>\n",
       "      <td>0</td>\n",
       "      <td>0</td>\n",
       "      <td>0</td>\n",
       "      <td>A</td>\n",
       "      <td>C</td>\n",
       "      <td>0</td>\n",
       "      <td>No Deposit</td>\n",
       "      <td>0</td>\n",
       "      <td>Transient</td>\n",
       "      <td>75.0</td>\n",
       "      <td>0</td>\n",
       "      <td>0</td>\n",
       "      <td>Check-Out</td>\n",
       "      <td>2015-07-02</td>\n",
       "      <td>2015-07-01</td>\n",
       "      <td>1</td>\n",
       "    </tr>\n",
       "    <tr>\n",
       "      <th>3</th>\n",
       "      <td>Resort_Hotel</td>\n",
       "      <td>0</td>\n",
       "      <td>13</td>\n",
       "      <td>2015</td>\n",
       "      <td>July</td>\n",
       "      <td>27</td>\n",
       "      <td>1</td>\n",
       "      <td>0</td>\n",
       "      <td>1</td>\n",
       "      <td>1</td>\n",
       "      <td>0.0</td>\n",
       "      <td>0</td>\n",
       "      <td>BB</td>\n",
       "      <td>GBR</td>\n",
       "      <td>Corporate</td>\n",
       "      <td>Corporate</td>\n",
       "      <td>0</td>\n",
       "      <td>0</td>\n",
       "      <td>0</td>\n",
       "      <td>A</td>\n",
       "      <td>A</td>\n",
       "      <td>0</td>\n",
       "      <td>No Deposit</td>\n",
       "      <td>0</td>\n",
       "      <td>Transient</td>\n",
       "      <td>75.0</td>\n",
       "      <td>0</td>\n",
       "      <td>0</td>\n",
       "      <td>Check-Out</td>\n",
       "      <td>2015-07-02</td>\n",
       "      <td>2015-07-01</td>\n",
       "      <td>1</td>\n",
       "    </tr>\n",
       "    <tr>\n",
       "      <th>4</th>\n",
       "      <td>Resort_Hotel</td>\n",
       "      <td>0</td>\n",
       "      <td>14</td>\n",
       "      <td>2015</td>\n",
       "      <td>July</td>\n",
       "      <td>27</td>\n",
       "      <td>1</td>\n",
       "      <td>0</td>\n",
       "      <td>2</td>\n",
       "      <td>2</td>\n",
       "      <td>0.0</td>\n",
       "      <td>0</td>\n",
       "      <td>BB</td>\n",
       "      <td>GBR</td>\n",
       "      <td>Online TA</td>\n",
       "      <td>TA/TO</td>\n",
       "      <td>0</td>\n",
       "      <td>0</td>\n",
       "      <td>0</td>\n",
       "      <td>A</td>\n",
       "      <td>A</td>\n",
       "      <td>0</td>\n",
       "      <td>No Deposit</td>\n",
       "      <td>0</td>\n",
       "      <td>Transient</td>\n",
       "      <td>98.0</td>\n",
       "      <td>0</td>\n",
       "      <td>1</td>\n",
       "      <td>Check-Out</td>\n",
       "      <td>2015-07-03</td>\n",
       "      <td>2015-07-01</td>\n",
       "      <td>2</td>\n",
       "    </tr>\n",
       "  </tbody>\n",
       "</table>\n",
       "</div>"
      ],
      "text/plain": [
       "          hotel  is_canceled  lead_time  arrival_date_year arrival_date_month  \\\n",
       "0  Resort_Hotel            0        342               2015               July   \n",
       "1  Resort_Hotel            0        737               2015               July   \n",
       "2  Resort_Hotel            0          7               2015               July   \n",
       "3  Resort_Hotel            0         13               2015               July   \n",
       "4  Resort_Hotel            0         14               2015               July   \n",
       "\n",
       "   arrival_date_week_number  arrival_date_day_of_month  \\\n",
       "0                        27                          1   \n",
       "1                        27                          1   \n",
       "2                        27                          1   \n",
       "3                        27                          1   \n",
       "4                        27                          1   \n",
       "\n",
       "   stays_in_weekend_nights  stays_in_week_nights  adults  children  babies  \\\n",
       "0                        0                     0       2       0.0       0   \n",
       "1                        0                     0       2       0.0       0   \n",
       "2                        0                     1       1       0.0       0   \n",
       "3                        0                     1       1       0.0       0   \n",
       "4                        0                     2       2       0.0       0   \n",
       "\n",
       "  meal country market_segment distribution_channel  is_repeated_guest  \\\n",
       "0   BB     PRT         Direct               Direct                  0   \n",
       "1   BB     PRT         Direct               Direct                  0   \n",
       "2   BB     GBR         Direct               Direct                  0   \n",
       "3   BB     GBR      Corporate            Corporate                  0   \n",
       "4   BB     GBR      Online TA                TA/TO                  0   \n",
       "\n",
       "   previous_cancellations  previous_bookings_not_canceled reserved_room_type  \\\n",
       "0                       0                               0                  C   \n",
       "1                       0                               0                  C   \n",
       "2                       0                               0                  A   \n",
       "3                       0                               0                  A   \n",
       "4                       0                               0                  A   \n",
       "\n",
       "  assigned_room_type  booking_changes deposit_type  days_in_waiting_list  \\\n",
       "0                  C                3   No Deposit                     0   \n",
       "1                  C                4   No Deposit                     0   \n",
       "2                  C                0   No Deposit                     0   \n",
       "3                  A                0   No Deposit                     0   \n",
       "4                  A                0   No Deposit                     0   \n",
       "\n",
       "  customer_type   adr  required_car_parking_spaces  total_of_special_requests  \\\n",
       "0     Transient   0.0                            0                          0   \n",
       "1     Transient   0.0                            0                          0   \n",
       "2     Transient  75.0                            0                          0   \n",
       "3     Transient  75.0                            0                          0   \n",
       "4     Transient  98.0                            0                          1   \n",
       "\n",
       "  reservation_status reservation_status_date arrival_date  total_stay  \n",
       "0          Check-Out              2015-07-01   2015-07-01           0  \n",
       "1          Check-Out              2015-07-01   2015-07-01           0  \n",
       "2          Check-Out              2015-07-02   2015-07-01           1  \n",
       "3          Check-Out              2015-07-02   2015-07-01           1  \n",
       "4          Check-Out              2015-07-03   2015-07-01           2  "
      ]
     },
     "execution_count": 43,
     "metadata": {},
     "output_type": "execute_result"
    }
   ],
   "source": [
    "df['total_stay'] = df['stays_in_week_nights'] + df['stays_in_weekend_nights']\n",
    "df.head()"
   ]
  },
  {
   "cell_type": "code",
   "execution_count": 44,
   "id": "11635e36",
   "metadata": {},
   "outputs": [
    {
     "data": {
      "text/plain": [
       "count    86940.000000\n",
       "mean         3.636140\n",
       "std          2.748263\n",
       "min          0.000000\n",
       "25%          2.000000\n",
       "50%          3.000000\n",
       "75%          5.000000\n",
       "max         57.000000\n",
       "Name: total_stay, dtype: float64"
      ]
     },
     "execution_count": 44,
     "metadata": {},
     "output_type": "execute_result"
    }
   ],
   "source": [
    "df['total_stay'].describe()"
   ]
  },
  {
   "cell_type": "code",
   "execution_count": 45,
   "id": "4bcc9791",
   "metadata": {},
   "outputs": [
    {
     "data": {
      "text/plain": [
       "3    17801\n",
       "1    16963\n",
       "2    15632\n",
       "4    13555\n",
       "7     7515\n",
       "Name: total_stay, dtype: int64"
      ]
     },
     "execution_count": 45,
     "metadata": {},
     "output_type": "execute_result"
    }
   ],
   "source": [
    "df['total_stay'].value_counts().head()"
   ]
  },
  {
   "cell_type": "markdown",
   "id": "b92a8fe8",
   "metadata": {},
   "source": [
    "The longest stay is 57 days but more than 75% of the entries had total stay of 5 days or less."
   ]
  },
  {
   "cell_type": "code",
   "execution_count": 46,
   "id": "b05dd59b",
   "metadata": {},
   "outputs": [
    {
     "data": {
      "text/plain": [
       "count    86940.000000\n",
       "mean         1.878525\n",
       "std          0.625860\n",
       "min          0.000000\n",
       "25%          2.000000\n",
       "50%          2.000000\n",
       "75%          2.000000\n",
       "max         55.000000\n",
       "Name: adults, dtype: float64"
      ]
     },
     "execution_count": 46,
     "metadata": {},
     "output_type": "execute_result"
    }
   ],
   "source": [
    "df['adults'].describe()"
   ]
  },
  {
   "cell_type": "code",
   "execution_count": 47,
   "id": "aa62247a",
   "metadata": {},
   "outputs": [
    {
     "data": {
      "text/plain": [
       "2     64340\n",
       "1     16214\n",
       "3      5930\n",
       "0       380\n",
       "4        60\n",
       "26        5\n",
       "5         2\n",
       "20        2\n",
       "27        2\n",
       "6         1\n",
       "10        1\n",
       "40        1\n",
       "50        1\n",
       "55        1\n",
       "Name: adults, dtype: int64"
      ]
     },
     "execution_count": 47,
     "metadata": {},
     "output_type": "execute_result"
    }
   ],
   "source": [
    "#Check for non integer values\n",
    "for a in df[\"adults\"]:\n",
    "    if(a%1!=0):\n",
    "        print(\"not integer\")\n",
    "df['adults'].value_counts()"
   ]
  },
  {
   "cell_type": "markdown",
   "id": "fde1ad54",
   "metadata": {},
   "source": [
    "55 adults in a single booking seems weird. Let's check the outliers."
   ]
  },
  {
   "cell_type": "code",
   "execution_count": 48,
   "id": "a407a781",
   "metadata": {},
   "outputs": [
    {
     "data": {
      "text/html": [
       "<div>\n",
       "<style scoped>\n",
       "    .dataframe tbody tr th:only-of-type {\n",
       "        vertical-align: middle;\n",
       "    }\n",
       "\n",
       "    .dataframe tbody tr th {\n",
       "        vertical-align: top;\n",
       "    }\n",
       "\n",
       "    .dataframe thead th {\n",
       "        text-align: right;\n",
       "    }\n",
       "</style>\n",
       "<table border=\"1\" class=\"dataframe\">\n",
       "  <thead>\n",
       "    <tr style=\"text-align: right;\">\n",
       "      <th></th>\n",
       "      <th>hotel</th>\n",
       "      <th>is_canceled</th>\n",
       "      <th>lead_time</th>\n",
       "      <th>arrival_date_year</th>\n",
       "      <th>arrival_date_month</th>\n",
       "      <th>arrival_date_week_number</th>\n",
       "      <th>arrival_date_day_of_month</th>\n",
       "      <th>stays_in_weekend_nights</th>\n",
       "      <th>stays_in_week_nights</th>\n",
       "      <th>adults</th>\n",
       "      <th>children</th>\n",
       "      <th>babies</th>\n",
       "      <th>meal</th>\n",
       "      <th>country</th>\n",
       "      <th>market_segment</th>\n",
       "      <th>distribution_channel</th>\n",
       "      <th>is_repeated_guest</th>\n",
       "      <th>previous_cancellations</th>\n",
       "      <th>previous_bookings_not_canceled</th>\n",
       "      <th>reserved_room_type</th>\n",
       "      <th>assigned_room_type</th>\n",
       "      <th>booking_changes</th>\n",
       "      <th>deposit_type</th>\n",
       "      <th>days_in_waiting_list</th>\n",
       "      <th>customer_type</th>\n",
       "      <th>adr</th>\n",
       "      <th>required_car_parking_spaces</th>\n",
       "      <th>total_of_special_requests</th>\n",
       "      <th>reservation_status</th>\n",
       "      <th>reservation_status_date</th>\n",
       "      <th>arrival_date</th>\n",
       "      <th>total_stay</th>\n",
       "    </tr>\n",
       "  </thead>\n",
       "  <tbody>\n",
       "    <tr>\n",
       "      <th>1539</th>\n",
       "      <td>Resort_Hotel</td>\n",
       "      <td>1</td>\n",
       "      <td>304</td>\n",
       "      <td>2015</td>\n",
       "      <td>September</td>\n",
       "      <td>36</td>\n",
       "      <td>3</td>\n",
       "      <td>0</td>\n",
       "      <td>3</td>\n",
       "      <td>40</td>\n",
       "      <td>0.0</td>\n",
       "      <td>0</td>\n",
       "      <td>BB</td>\n",
       "      <td>PRT</td>\n",
       "      <td>Direct</td>\n",
       "      <td>Direct</td>\n",
       "      <td>0</td>\n",
       "      <td>0</td>\n",
       "      <td>0</td>\n",
       "      <td>A</td>\n",
       "      <td>A</td>\n",
       "      <td>0</td>\n",
       "      <td>No Deposit</td>\n",
       "      <td>0</td>\n",
       "      <td>Group</td>\n",
       "      <td>0.0</td>\n",
       "      <td>0</td>\n",
       "      <td>0</td>\n",
       "      <td>Canceled</td>\n",
       "      <td>2015-01-02</td>\n",
       "      <td>2015-09-03</td>\n",
       "      <td>3</td>\n",
       "    </tr>\n",
       "    <tr>\n",
       "      <th>1587</th>\n",
       "      <td>Resort_Hotel</td>\n",
       "      <td>1</td>\n",
       "      <td>333</td>\n",
       "      <td>2015</td>\n",
       "      <td>September</td>\n",
       "      <td>36</td>\n",
       "      <td>5</td>\n",
       "      <td>2</td>\n",
       "      <td>5</td>\n",
       "      <td>26</td>\n",
       "      <td>0.0</td>\n",
       "      <td>0</td>\n",
       "      <td>BB</td>\n",
       "      <td>PRT</td>\n",
       "      <td>Offline TA/TO</td>\n",
       "      <td>TA/TO</td>\n",
       "      <td>0</td>\n",
       "      <td>0</td>\n",
       "      <td>0</td>\n",
       "      <td>A</td>\n",
       "      <td>A</td>\n",
       "      <td>0</td>\n",
       "      <td>No Deposit</td>\n",
       "      <td>0</td>\n",
       "      <td>Group</td>\n",
       "      <td>0.0</td>\n",
       "      <td>0</td>\n",
       "      <td>0</td>\n",
       "      <td>Canceled</td>\n",
       "      <td>2015-01-02</td>\n",
       "      <td>2015-09-05</td>\n",
       "      <td>7</td>\n",
       "    </tr>\n",
       "    <tr>\n",
       "      <th>1643</th>\n",
       "      <td>Resort_Hotel</td>\n",
       "      <td>1</td>\n",
       "      <td>336</td>\n",
       "      <td>2015</td>\n",
       "      <td>September</td>\n",
       "      <td>37</td>\n",
       "      <td>7</td>\n",
       "      <td>1</td>\n",
       "      <td>2</td>\n",
       "      <td>50</td>\n",
       "      <td>0.0</td>\n",
       "      <td>0</td>\n",
       "      <td>BB</td>\n",
       "      <td>PRT</td>\n",
       "      <td>Direct</td>\n",
       "      <td>Direct</td>\n",
       "      <td>0</td>\n",
       "      <td>0</td>\n",
       "      <td>0</td>\n",
       "      <td>A</td>\n",
       "      <td>A</td>\n",
       "      <td>0</td>\n",
       "      <td>No Deposit</td>\n",
       "      <td>0</td>\n",
       "      <td>Group</td>\n",
       "      <td>0.0</td>\n",
       "      <td>0</td>\n",
       "      <td>0</td>\n",
       "      <td>Canceled</td>\n",
       "      <td>2015-01-18</td>\n",
       "      <td>2015-09-07</td>\n",
       "      <td>3</td>\n",
       "    </tr>\n",
       "    <tr>\n",
       "      <th>1752</th>\n",
       "      <td>Resort_Hotel</td>\n",
       "      <td>1</td>\n",
       "      <td>340</td>\n",
       "      <td>2015</td>\n",
       "      <td>September</td>\n",
       "      <td>37</td>\n",
       "      <td>12</td>\n",
       "      <td>2</td>\n",
       "      <td>5</td>\n",
       "      <td>26</td>\n",
       "      <td>0.0</td>\n",
       "      <td>0</td>\n",
       "      <td>BB</td>\n",
       "      <td>PRT</td>\n",
       "      <td>Offline TA/TO</td>\n",
       "      <td>TA/TO</td>\n",
       "      <td>0</td>\n",
       "      <td>0</td>\n",
       "      <td>0</td>\n",
       "      <td>A</td>\n",
       "      <td>A</td>\n",
       "      <td>0</td>\n",
       "      <td>No Deposit</td>\n",
       "      <td>0</td>\n",
       "      <td>Group</td>\n",
       "      <td>0.0</td>\n",
       "      <td>0</td>\n",
       "      <td>0</td>\n",
       "      <td>Canceled</td>\n",
       "      <td>2015-01-02</td>\n",
       "      <td>2015-09-12</td>\n",
       "      <td>7</td>\n",
       "    </tr>\n",
       "    <tr>\n",
       "      <th>1884</th>\n",
       "      <td>Resort_Hotel</td>\n",
       "      <td>1</td>\n",
       "      <td>347</td>\n",
       "      <td>2015</td>\n",
       "      <td>September</td>\n",
       "      <td>38</td>\n",
       "      <td>19</td>\n",
       "      <td>2</td>\n",
       "      <td>5</td>\n",
       "      <td>26</td>\n",
       "      <td>0.0</td>\n",
       "      <td>0</td>\n",
       "      <td>BB</td>\n",
       "      <td>PRT</td>\n",
       "      <td>Offline TA/TO</td>\n",
       "      <td>TA/TO</td>\n",
       "      <td>0</td>\n",
       "      <td>0</td>\n",
       "      <td>0</td>\n",
       "      <td>A</td>\n",
       "      <td>A</td>\n",
       "      <td>0</td>\n",
       "      <td>No Deposit</td>\n",
       "      <td>0</td>\n",
       "      <td>Group</td>\n",
       "      <td>0.0</td>\n",
       "      <td>0</td>\n",
       "      <td>0</td>\n",
       "      <td>Canceled</td>\n",
       "      <td>2015-01-02</td>\n",
       "      <td>2015-09-19</td>\n",
       "      <td>7</td>\n",
       "    </tr>\n",
       "    <tr>\n",
       "      <th>1917</th>\n",
       "      <td>Resort_Hotel</td>\n",
       "      <td>1</td>\n",
       "      <td>349</td>\n",
       "      <td>2015</td>\n",
       "      <td>September</td>\n",
       "      <td>39</td>\n",
       "      <td>21</td>\n",
       "      <td>1</td>\n",
       "      <td>3</td>\n",
       "      <td>27</td>\n",
       "      <td>0.0</td>\n",
       "      <td>0</td>\n",
       "      <td>HB</td>\n",
       "      <td>PRT</td>\n",
       "      <td>Direct</td>\n",
       "      <td>Direct</td>\n",
       "      <td>0</td>\n",
       "      <td>0</td>\n",
       "      <td>0</td>\n",
       "      <td>A</td>\n",
       "      <td>A</td>\n",
       "      <td>0</td>\n",
       "      <td>No Deposit</td>\n",
       "      <td>0</td>\n",
       "      <td>Group</td>\n",
       "      <td>0.0</td>\n",
       "      <td>0</td>\n",
       "      <td>0</td>\n",
       "      <td>Canceled</td>\n",
       "      <td>2015-01-02</td>\n",
       "      <td>2015-09-21</td>\n",
       "      <td>4</td>\n",
       "    </tr>\n",
       "    <tr>\n",
       "      <th>1962</th>\n",
       "      <td>Resort_Hotel</td>\n",
       "      <td>1</td>\n",
       "      <td>352</td>\n",
       "      <td>2015</td>\n",
       "      <td>September</td>\n",
       "      <td>39</td>\n",
       "      <td>24</td>\n",
       "      <td>1</td>\n",
       "      <td>3</td>\n",
       "      <td>27</td>\n",
       "      <td>0.0</td>\n",
       "      <td>0</td>\n",
       "      <td>HB</td>\n",
       "      <td>PRT</td>\n",
       "      <td>Direct</td>\n",
       "      <td>Direct</td>\n",
       "      <td>0</td>\n",
       "      <td>0</td>\n",
       "      <td>0</td>\n",
       "      <td>A</td>\n",
       "      <td>A</td>\n",
       "      <td>0</td>\n",
       "      <td>No Deposit</td>\n",
       "      <td>0</td>\n",
       "      <td>Group</td>\n",
       "      <td>0.0</td>\n",
       "      <td>0</td>\n",
       "      <td>0</td>\n",
       "      <td>Canceled</td>\n",
       "      <td>2015-01-02</td>\n",
       "      <td>2015-09-24</td>\n",
       "      <td>4</td>\n",
       "    </tr>\n",
       "    <tr>\n",
       "      <th>2003</th>\n",
       "      <td>Resort_Hotel</td>\n",
       "      <td>1</td>\n",
       "      <td>354</td>\n",
       "      <td>2015</td>\n",
       "      <td>September</td>\n",
       "      <td>39</td>\n",
       "      <td>26</td>\n",
       "      <td>2</td>\n",
       "      <td>5</td>\n",
       "      <td>26</td>\n",
       "      <td>0.0</td>\n",
       "      <td>0</td>\n",
       "      <td>BB</td>\n",
       "      <td>PRT</td>\n",
       "      <td>Offline TA/TO</td>\n",
       "      <td>TA/TO</td>\n",
       "      <td>0</td>\n",
       "      <td>0</td>\n",
       "      <td>0</td>\n",
       "      <td>A</td>\n",
       "      <td>A</td>\n",
       "      <td>0</td>\n",
       "      <td>No Deposit</td>\n",
       "      <td>0</td>\n",
       "      <td>Group</td>\n",
       "      <td>0.0</td>\n",
       "      <td>0</td>\n",
       "      <td>0</td>\n",
       "      <td>Canceled</td>\n",
       "      <td>2015-01-02</td>\n",
       "      <td>2015-09-26</td>\n",
       "      <td>7</td>\n",
       "    </tr>\n",
       "    <tr>\n",
       "      <th>2164</th>\n",
       "      <td>Resort_Hotel</td>\n",
       "      <td>1</td>\n",
       "      <td>361</td>\n",
       "      <td>2015</td>\n",
       "      <td>October</td>\n",
       "      <td>40</td>\n",
       "      <td>3</td>\n",
       "      <td>2</td>\n",
       "      <td>5</td>\n",
       "      <td>26</td>\n",
       "      <td>0.0</td>\n",
       "      <td>0</td>\n",
       "      <td>BB</td>\n",
       "      <td>PRT</td>\n",
       "      <td>Offline TA/TO</td>\n",
       "      <td>TA/TO</td>\n",
       "      <td>0</td>\n",
       "      <td>0</td>\n",
       "      <td>0</td>\n",
       "      <td>A</td>\n",
       "      <td>A</td>\n",
       "      <td>0</td>\n",
       "      <td>No Deposit</td>\n",
       "      <td>0</td>\n",
       "      <td>Group</td>\n",
       "      <td>0.0</td>\n",
       "      <td>0</td>\n",
       "      <td>0</td>\n",
       "      <td>Canceled</td>\n",
       "      <td>2015-01-02</td>\n",
       "      <td>2015-10-03</td>\n",
       "      <td>7</td>\n",
       "    </tr>\n",
       "    <tr>\n",
       "      <th>2173</th>\n",
       "      <td>Resort_Hotel</td>\n",
       "      <td>1</td>\n",
       "      <td>338</td>\n",
       "      <td>2015</td>\n",
       "      <td>October</td>\n",
       "      <td>41</td>\n",
       "      <td>4</td>\n",
       "      <td>2</td>\n",
       "      <td>0</td>\n",
       "      <td>55</td>\n",
       "      <td>0.0</td>\n",
       "      <td>0</td>\n",
       "      <td>HB</td>\n",
       "      <td>PRT</td>\n",
       "      <td>Direct</td>\n",
       "      <td>Direct</td>\n",
       "      <td>0</td>\n",
       "      <td>0</td>\n",
       "      <td>0</td>\n",
       "      <td>A</td>\n",
       "      <td>A</td>\n",
       "      <td>0</td>\n",
       "      <td>No Deposit</td>\n",
       "      <td>0</td>\n",
       "      <td>Group</td>\n",
       "      <td>0.0</td>\n",
       "      <td>0</td>\n",
       "      <td>0</td>\n",
       "      <td>Canceled</td>\n",
       "      <td>2015-01-02</td>\n",
       "      <td>2015-10-04</td>\n",
       "      <td>2</td>\n",
       "    </tr>\n",
       "    <tr>\n",
       "      <th>2228</th>\n",
       "      <td>Resort_Hotel</td>\n",
       "      <td>1</td>\n",
       "      <td>328</td>\n",
       "      <td>2015</td>\n",
       "      <td>October</td>\n",
       "      <td>41</td>\n",
       "      <td>6</td>\n",
       "      <td>2</td>\n",
       "      <td>5</td>\n",
       "      <td>20</td>\n",
       "      <td>0.0</td>\n",
       "      <td>0</td>\n",
       "      <td>BB</td>\n",
       "      <td>PRT</td>\n",
       "      <td>Direct</td>\n",
       "      <td>Direct</td>\n",
       "      <td>0</td>\n",
       "      <td>0</td>\n",
       "      <td>0</td>\n",
       "      <td>D</td>\n",
       "      <td>D</td>\n",
       "      <td>1</td>\n",
       "      <td>No Deposit</td>\n",
       "      <td>0</td>\n",
       "      <td>Group</td>\n",
       "      <td>0.0</td>\n",
       "      <td>0</td>\n",
       "      <td>0</td>\n",
       "      <td>Canceled</td>\n",
       "      <td>2015-09-03</td>\n",
       "      <td>2015-10-06</td>\n",
       "      <td>7</td>\n",
       "    </tr>\n",
       "    <tr>\n",
       "      <th>2418</th>\n",
       "      <td>Resort_Hotel</td>\n",
       "      <td>1</td>\n",
       "      <td>334</td>\n",
       "      <td>2015</td>\n",
       "      <td>October</td>\n",
       "      <td>42</td>\n",
       "      <td>12</td>\n",
       "      <td>2</td>\n",
       "      <td>5</td>\n",
       "      <td>20</td>\n",
       "      <td>0.0</td>\n",
       "      <td>0</td>\n",
       "      <td>BB</td>\n",
       "      <td>PRT</td>\n",
       "      <td>Direct</td>\n",
       "      <td>Direct</td>\n",
       "      <td>0</td>\n",
       "      <td>0</td>\n",
       "      <td>0</td>\n",
       "      <td>D</td>\n",
       "      <td>D</td>\n",
       "      <td>0</td>\n",
       "      <td>No Deposit</td>\n",
       "      <td>0</td>\n",
       "      <td>Group</td>\n",
       "      <td>0.0</td>\n",
       "      <td>0</td>\n",
       "      <td>0</td>\n",
       "      <td>Canceled</td>\n",
       "      <td>2015-01-02</td>\n",
       "      <td>2015-10-12</td>\n",
       "      <td>7</td>\n",
       "    </tr>\n",
       "  </tbody>\n",
       "</table>\n",
       "</div>"
      ],
      "text/plain": [
       "             hotel  is_canceled  lead_time  arrival_date_year  \\\n",
       "1539  Resort_Hotel            1        304               2015   \n",
       "1587  Resort_Hotel            1        333               2015   \n",
       "1643  Resort_Hotel            1        336               2015   \n",
       "1752  Resort_Hotel            1        340               2015   \n",
       "1884  Resort_Hotel            1        347               2015   \n",
       "1917  Resort_Hotel            1        349               2015   \n",
       "1962  Resort_Hotel            1        352               2015   \n",
       "2003  Resort_Hotel            1        354               2015   \n",
       "2164  Resort_Hotel            1        361               2015   \n",
       "2173  Resort_Hotel            1        338               2015   \n",
       "2228  Resort_Hotel            1        328               2015   \n",
       "2418  Resort_Hotel            1        334               2015   \n",
       "\n",
       "     arrival_date_month  arrival_date_week_number  arrival_date_day_of_month  \\\n",
       "1539          September                        36                          3   \n",
       "1587          September                        36                          5   \n",
       "1643          September                        37                          7   \n",
       "1752          September                        37                         12   \n",
       "1884          September                        38                         19   \n",
       "1917          September                        39                         21   \n",
       "1962          September                        39                         24   \n",
       "2003          September                        39                         26   \n",
       "2164            October                        40                          3   \n",
       "2173            October                        41                          4   \n",
       "2228            October                        41                          6   \n",
       "2418            October                        42                         12   \n",
       "\n",
       "      stays_in_weekend_nights  stays_in_week_nights  adults  children  babies  \\\n",
       "1539                        0                     3      40       0.0       0   \n",
       "1587                        2                     5      26       0.0       0   \n",
       "1643                        1                     2      50       0.0       0   \n",
       "1752                        2                     5      26       0.0       0   \n",
       "1884                        2                     5      26       0.0       0   \n",
       "1917                        1                     3      27       0.0       0   \n",
       "1962                        1                     3      27       0.0       0   \n",
       "2003                        2                     5      26       0.0       0   \n",
       "2164                        2                     5      26       0.0       0   \n",
       "2173                        2                     0      55       0.0       0   \n",
       "2228                        2                     5      20       0.0       0   \n",
       "2418                        2                     5      20       0.0       0   \n",
       "\n",
       "     meal country market_segment distribution_channel  is_repeated_guest  \\\n",
       "1539   BB     PRT         Direct               Direct                  0   \n",
       "1587   BB     PRT  Offline TA/TO                TA/TO                  0   \n",
       "1643   BB     PRT         Direct               Direct                  0   \n",
       "1752   BB     PRT  Offline TA/TO                TA/TO                  0   \n",
       "1884   BB     PRT  Offline TA/TO                TA/TO                  0   \n",
       "1917   HB     PRT         Direct               Direct                  0   \n",
       "1962   HB     PRT         Direct               Direct                  0   \n",
       "2003   BB     PRT  Offline TA/TO                TA/TO                  0   \n",
       "2164   BB     PRT  Offline TA/TO                TA/TO                  0   \n",
       "2173   HB     PRT         Direct               Direct                  0   \n",
       "2228   BB     PRT         Direct               Direct                  0   \n",
       "2418   BB     PRT         Direct               Direct                  0   \n",
       "\n",
       "      previous_cancellations  previous_bookings_not_canceled  \\\n",
       "1539                       0                               0   \n",
       "1587                       0                               0   \n",
       "1643                       0                               0   \n",
       "1752                       0                               0   \n",
       "1884                       0                               0   \n",
       "1917                       0                               0   \n",
       "1962                       0                               0   \n",
       "2003                       0                               0   \n",
       "2164                       0                               0   \n",
       "2173                       0                               0   \n",
       "2228                       0                               0   \n",
       "2418                       0                               0   \n",
       "\n",
       "     reserved_room_type assigned_room_type  booking_changes deposit_type  \\\n",
       "1539                  A                  A                0   No Deposit   \n",
       "1587                  A                  A                0   No Deposit   \n",
       "1643                  A                  A                0   No Deposit   \n",
       "1752                  A                  A                0   No Deposit   \n",
       "1884                  A                  A                0   No Deposit   \n",
       "1917                  A                  A                0   No Deposit   \n",
       "1962                  A                  A                0   No Deposit   \n",
       "2003                  A                  A                0   No Deposit   \n",
       "2164                  A                  A                0   No Deposit   \n",
       "2173                  A                  A                0   No Deposit   \n",
       "2228                  D                  D                1   No Deposit   \n",
       "2418                  D                  D                0   No Deposit   \n",
       "\n",
       "      days_in_waiting_list customer_type  adr  required_car_parking_spaces  \\\n",
       "1539                     0         Group  0.0                            0   \n",
       "1587                     0         Group  0.0                            0   \n",
       "1643                     0         Group  0.0                            0   \n",
       "1752                     0         Group  0.0                            0   \n",
       "1884                     0         Group  0.0                            0   \n",
       "1917                     0         Group  0.0                            0   \n",
       "1962                     0         Group  0.0                            0   \n",
       "2003                     0         Group  0.0                            0   \n",
       "2164                     0         Group  0.0                            0   \n",
       "2173                     0         Group  0.0                            0   \n",
       "2228                     0         Group  0.0                            0   \n",
       "2418                     0         Group  0.0                            0   \n",
       "\n",
       "      total_of_special_requests reservation_status reservation_status_date  \\\n",
       "1539                          0           Canceled              2015-01-02   \n",
       "1587                          0           Canceled              2015-01-02   \n",
       "1643                          0           Canceled              2015-01-18   \n",
       "1752                          0           Canceled              2015-01-02   \n",
       "1884                          0           Canceled              2015-01-02   \n",
       "1917                          0           Canceled              2015-01-02   \n",
       "1962                          0           Canceled              2015-01-02   \n",
       "2003                          0           Canceled              2015-01-02   \n",
       "2164                          0           Canceled              2015-01-02   \n",
       "2173                          0           Canceled              2015-01-02   \n",
       "2228                          0           Canceled              2015-09-03   \n",
       "2418                          0           Canceled              2015-01-02   \n",
       "\n",
       "     arrival_date  total_stay  \n",
       "1539   2015-09-03           3  \n",
       "1587   2015-09-05           7  \n",
       "1643   2015-09-07           3  \n",
       "1752   2015-09-12           7  \n",
       "1884   2015-09-19           7  \n",
       "1917   2015-09-21           4  \n",
       "1962   2015-09-24           4  \n",
       "2003   2015-09-26           7  \n",
       "2164   2015-10-03           7  \n",
       "2173   2015-10-04           2  \n",
       "2228   2015-10-06           7  \n",
       "2418   2015-10-12           7  "
      ]
     },
     "execution_count": 48,
     "metadata": {},
     "output_type": "execute_result"
    }
   ],
   "source": [
    "df[df['adults'] > 10]\n"
   ]
  },
  {
   "cell_type": "markdown",
   "id": "adcf2edd",
   "metadata": {},
   "source": [
    "All the booking for more than 10 hotels have a lot in common: They were for the resort hotel, none of them gave a deposit, all of them were coming in the month of Seprtember/October 2015 from the country PRT(Portugal) and they were all canceled.\n",
    "\n",
    "I suspected there might be a conference/event attracting such a huge crowd, but the bookings were spread out thhrough September, so this seems unlikely."
   ]
  },
  {
   "cell_type": "markdown",
   "id": "92979df8",
   "metadata": {},
   "source": [
    "children - Number of children"
   ]
  },
  {
   "cell_type": "code",
   "execution_count": 49,
   "id": "b94de694",
   "metadata": {},
   "outputs": [
    {
     "data": {
      "text/plain": [
       "0.0     78587\n",
       "1.0      4686\n",
       "2.0      3591\n",
       "3.0        75\n",
       "10.0        1\n",
       "Name: children, dtype: int64"
      ]
     },
     "execution_count": 49,
     "metadata": {},
     "output_type": "execute_result"
    }
   ],
   "source": [
    "df['children'].describe()\n",
    "for a in df[\"children\"]:\n",
    "    if(a%1!=0):\n",
    "        print(\"not integer\")\n",
    "df['children'].value_counts()"
   ]
  },
  {
   "cell_type": "code",
   "execution_count": 50,
   "id": "451698e9",
   "metadata": {},
   "outputs": [],
   "source": [
    "df['children'] = df['children'].astype('int')"
   ]
  },
  {
   "cell_type": "code",
   "execution_count": 51,
   "id": "9287f656",
   "metadata": {},
   "outputs": [
    {
     "data": {
      "text/html": [
       "<div>\n",
       "<style scoped>\n",
       "    .dataframe tbody tr th:only-of-type {\n",
       "        vertical-align: middle;\n",
       "    }\n",
       "\n",
       "    .dataframe tbody tr th {\n",
       "        vertical-align: top;\n",
       "    }\n",
       "\n",
       "    .dataframe thead th {\n",
       "        text-align: right;\n",
       "    }\n",
       "</style>\n",
       "<table border=\"1\" class=\"dataframe\">\n",
       "  <thead>\n",
       "    <tr style=\"text-align: right;\">\n",
       "      <th></th>\n",
       "      <th>hotel</th>\n",
       "      <th>is_canceled</th>\n",
       "      <th>lead_time</th>\n",
       "      <th>arrival_date_year</th>\n",
       "      <th>arrival_date_month</th>\n",
       "      <th>arrival_date_week_number</th>\n",
       "      <th>arrival_date_day_of_month</th>\n",
       "      <th>stays_in_weekend_nights</th>\n",
       "      <th>stays_in_week_nights</th>\n",
       "      <th>adults</th>\n",
       "      <th>children</th>\n",
       "      <th>babies</th>\n",
       "      <th>meal</th>\n",
       "      <th>country</th>\n",
       "      <th>market_segment</th>\n",
       "      <th>distribution_channel</th>\n",
       "      <th>is_repeated_guest</th>\n",
       "      <th>previous_cancellations</th>\n",
       "      <th>previous_bookings_not_canceled</th>\n",
       "      <th>reserved_room_type</th>\n",
       "      <th>assigned_room_type</th>\n",
       "      <th>booking_changes</th>\n",
       "      <th>deposit_type</th>\n",
       "      <th>days_in_waiting_list</th>\n",
       "      <th>customer_type</th>\n",
       "      <th>adr</th>\n",
       "      <th>required_car_parking_spaces</th>\n",
       "      <th>total_of_special_requests</th>\n",
       "      <th>reservation_status</th>\n",
       "      <th>reservation_status_date</th>\n",
       "      <th>arrival_date</th>\n",
       "      <th>total_stay</th>\n",
       "    </tr>\n",
       "  </thead>\n",
       "  <tbody>\n",
       "    <tr>\n",
       "      <th>328</th>\n",
       "      <td>Resort_Hotel</td>\n",
       "      <td>1</td>\n",
       "      <td>55</td>\n",
       "      <td>2015</td>\n",
       "      <td>July</td>\n",
       "      <td>29</td>\n",
       "      <td>12</td>\n",
       "      <td>4</td>\n",
       "      <td>10</td>\n",
       "      <td>2</td>\n",
       "      <td>10</td>\n",
       "      <td>0</td>\n",
       "      <td>BB</td>\n",
       "      <td>PRT</td>\n",
       "      <td>Offline TA/TO</td>\n",
       "      <td>TA/TO</td>\n",
       "      <td>0</td>\n",
       "      <td>0</td>\n",
       "      <td>0</td>\n",
       "      <td>D</td>\n",
       "      <td>D</td>\n",
       "      <td>2</td>\n",
       "      <td>No Deposit</td>\n",
       "      <td>0</td>\n",
       "      <td>Contract</td>\n",
       "      <td>133.16</td>\n",
       "      <td>0</td>\n",
       "      <td>1</td>\n",
       "      <td>No-Show</td>\n",
       "      <td>2015-07-12</td>\n",
       "      <td>2015-07-12</td>\n",
       "      <td>14</td>\n",
       "    </tr>\n",
       "  </tbody>\n",
       "</table>\n",
       "</div>"
      ],
      "text/plain": [
       "            hotel  is_canceled  lead_time  arrival_date_year  \\\n",
       "328  Resort_Hotel            1         55               2015   \n",
       "\n",
       "    arrival_date_month  arrival_date_week_number  arrival_date_day_of_month  \\\n",
       "328               July                        29                         12   \n",
       "\n",
       "     stays_in_weekend_nights  stays_in_week_nights  adults  children  babies  \\\n",
       "328                        4                    10       2        10       0   \n",
       "\n",
       "    meal country market_segment distribution_channel  is_repeated_guest  \\\n",
       "328   BB     PRT  Offline TA/TO                TA/TO                  0   \n",
       "\n",
       "     previous_cancellations  previous_bookings_not_canceled  \\\n",
       "328                       0                               0   \n",
       "\n",
       "    reserved_room_type assigned_room_type  booking_changes deposit_type  \\\n",
       "328                  D                  D                2   No Deposit   \n",
       "\n",
       "     days_in_waiting_list customer_type     adr  required_car_parking_spaces  \\\n",
       "328                     0      Contract  133.16                            0   \n",
       "\n",
       "     total_of_special_requests reservation_status reservation_status_date  \\\n",
       "328                          1            No-Show              2015-07-12   \n",
       "\n",
       "    arrival_date  total_stay  \n",
       "328   2015-07-12          14  "
      ]
     },
     "execution_count": 51,
     "metadata": {},
     "output_type": "execute_result"
    }
   ],
   "source": [
    "df[df['children'] > 4]"
   ]
  },
  {
   "cell_type": "markdown",
   "id": "5eb83853",
   "metadata": {},
   "source": [
    "Though 10 children with 2 adults entry seems unlikely, there's just one such entry so I will not remove it."
   ]
  },
  {
   "cell_type": "markdown",
   "id": "79c63c55",
   "metadata": {},
   "source": [
    "babies - Number of babies"
   ]
  },
  {
   "cell_type": "code",
   "execution_count": 52,
   "id": "61d09e17",
   "metadata": {},
   "outputs": [
    {
     "data": {
      "text/plain": [
       "0     86029\n",
       "1       895\n",
       "2        14\n",
       "9         1\n",
       "10        1\n",
       "Name: babies, dtype: int64"
      ]
     },
     "execution_count": 52,
     "metadata": {},
     "output_type": "execute_result"
    }
   ],
   "source": [
    "df['babies'].describe()\n",
    "for a in df[\"babies\"]:\n",
    "    if(a%1!=0):\n",
    "        print(\"not integer\")\n",
    "df['babies'].value_counts()"
   ]
  },
  {
   "cell_type": "markdown",
   "id": "ee97a952",
   "metadata": {},
   "source": [
    "The age group for classifying children and babies is not provided. I believe the term babies is for 0-5 year or shorter range. Let's check the outliers, guests with 9 or 10 babies."
   ]
  },
  {
   "cell_type": "code",
   "execution_count": 53,
   "id": "f8358476",
   "metadata": {},
   "outputs": [
    {
     "data": {
      "text/html": [
       "<div>\n",
       "<style scoped>\n",
       "    .dataframe tbody tr th:only-of-type {\n",
       "        vertical-align: middle;\n",
       "    }\n",
       "\n",
       "    .dataframe tbody tr th {\n",
       "        vertical-align: top;\n",
       "    }\n",
       "\n",
       "    .dataframe thead th {\n",
       "        text-align: right;\n",
       "    }\n",
       "</style>\n",
       "<table border=\"1\" class=\"dataframe\">\n",
       "  <thead>\n",
       "    <tr style=\"text-align: right;\">\n",
       "      <th></th>\n",
       "      <th>hotel</th>\n",
       "      <th>is_canceled</th>\n",
       "      <th>lead_time</th>\n",
       "      <th>arrival_date_year</th>\n",
       "      <th>arrival_date_month</th>\n",
       "      <th>arrival_date_week_number</th>\n",
       "      <th>arrival_date_day_of_month</th>\n",
       "      <th>stays_in_weekend_nights</th>\n",
       "      <th>stays_in_week_nights</th>\n",
       "      <th>adults</th>\n",
       "      <th>children</th>\n",
       "      <th>babies</th>\n",
       "      <th>meal</th>\n",
       "      <th>country</th>\n",
       "      <th>market_segment</th>\n",
       "      <th>distribution_channel</th>\n",
       "      <th>is_repeated_guest</th>\n",
       "      <th>previous_cancellations</th>\n",
       "      <th>previous_bookings_not_canceled</th>\n",
       "      <th>reserved_room_type</th>\n",
       "      <th>assigned_room_type</th>\n",
       "      <th>booking_changes</th>\n",
       "      <th>deposit_type</th>\n",
       "      <th>days_in_waiting_list</th>\n",
       "      <th>customer_type</th>\n",
       "      <th>adr</th>\n",
       "      <th>required_car_parking_spaces</th>\n",
       "      <th>total_of_special_requests</th>\n",
       "      <th>reservation_status</th>\n",
       "      <th>reservation_status_date</th>\n",
       "      <th>arrival_date</th>\n",
       "      <th>total_stay</th>\n",
       "    </tr>\n",
       "  </thead>\n",
       "  <tbody>\n",
       "    <tr>\n",
       "      <th>46619</th>\n",
       "      <td>City_Hotel</td>\n",
       "      <td>0</td>\n",
       "      <td>37</td>\n",
       "      <td>2016</td>\n",
       "      <td>January</td>\n",
       "      <td>3</td>\n",
       "      <td>12</td>\n",
       "      <td>0</td>\n",
       "      <td>2</td>\n",
       "      <td>2</td>\n",
       "      <td>0</td>\n",
       "      <td>10</td>\n",
       "      <td>BB</td>\n",
       "      <td>PRT</td>\n",
       "      <td>Online TA</td>\n",
       "      <td>TA/TO</td>\n",
       "      <td>0</td>\n",
       "      <td>0</td>\n",
       "      <td>0</td>\n",
       "      <td>D</td>\n",
       "      <td>D</td>\n",
       "      <td>1</td>\n",
       "      <td>No Deposit</td>\n",
       "      <td>0</td>\n",
       "      <td>Transient</td>\n",
       "      <td>84.45</td>\n",
       "      <td>0</td>\n",
       "      <td>1</td>\n",
       "      <td>Check-Out</td>\n",
       "      <td>2016-01-14</td>\n",
       "      <td>2016-01-12</td>\n",
       "      <td>2</td>\n",
       "    </tr>\n",
       "    <tr>\n",
       "      <th>78656</th>\n",
       "      <td>City_Hotel</td>\n",
       "      <td>0</td>\n",
       "      <td>11</td>\n",
       "      <td>2015</td>\n",
       "      <td>October</td>\n",
       "      <td>42</td>\n",
       "      <td>11</td>\n",
       "      <td>2</td>\n",
       "      <td>1</td>\n",
       "      <td>1</td>\n",
       "      <td>0</td>\n",
       "      <td>9</td>\n",
       "      <td>BB</td>\n",
       "      <td>GBR</td>\n",
       "      <td>Corporate</td>\n",
       "      <td>Corporate</td>\n",
       "      <td>0</td>\n",
       "      <td>0</td>\n",
       "      <td>0</td>\n",
       "      <td>A</td>\n",
       "      <td>B</td>\n",
       "      <td>1</td>\n",
       "      <td>No Deposit</td>\n",
       "      <td>0</td>\n",
       "      <td>Transient-Party</td>\n",
       "      <td>95.00</td>\n",
       "      <td>0</td>\n",
       "      <td>0</td>\n",
       "      <td>Check-Out</td>\n",
       "      <td>2015-10-14</td>\n",
       "      <td>2015-10-11</td>\n",
       "      <td>3</td>\n",
       "    </tr>\n",
       "  </tbody>\n",
       "</table>\n",
       "</div>"
      ],
      "text/plain": [
       "            hotel  is_canceled  lead_time  arrival_date_year  \\\n",
       "46619  City_Hotel            0         37               2016   \n",
       "78656  City_Hotel            0         11               2015   \n",
       "\n",
       "      arrival_date_month  arrival_date_week_number  arrival_date_day_of_month  \\\n",
       "46619            January                         3                         12   \n",
       "78656            October                        42                         11   \n",
       "\n",
       "       stays_in_weekend_nights  stays_in_week_nights  adults  children  \\\n",
       "46619                        0                     2       2         0   \n",
       "78656                        2                     1       1         0   \n",
       "\n",
       "       babies meal country market_segment distribution_channel  \\\n",
       "46619      10   BB     PRT      Online TA                TA/TO   \n",
       "78656       9   BB     GBR      Corporate            Corporate   \n",
       "\n",
       "       is_repeated_guest  previous_cancellations  \\\n",
       "46619                  0                       0   \n",
       "78656                  0                       0   \n",
       "\n",
       "       previous_bookings_not_canceled reserved_room_type assigned_room_type  \\\n",
       "46619                               0                  D                  D   \n",
       "78656                               0                  A                  B   \n",
       "\n",
       "       booking_changes deposit_type  days_in_waiting_list    customer_type  \\\n",
       "46619                1   No Deposit                     0        Transient   \n",
       "78656                1   No Deposit                     0  Transient-Party   \n",
       "\n",
       "         adr  required_car_parking_spaces  total_of_special_requests  \\\n",
       "46619  84.45                            0                          1   \n",
       "78656  95.00                            0                          0   \n",
       "\n",
       "      reservation_status reservation_status_date arrival_date  total_stay  \n",
       "46619          Check-Out              2016-01-14   2016-01-12           2  \n",
       "78656          Check-Out              2015-10-14   2015-10-11           3  "
      ]
     },
     "execution_count": 53,
     "metadata": {},
     "output_type": "execute_result"
    }
   ],
   "source": [
    "df[df['babies'] > 2]"
   ]
  },
  {
   "cell_type": "markdown",
   "id": "4948506d",
   "metadata": {},
   "source": [
    "Observing both cases, 1 adult with 9 babies and 2 adults with 10 babies seem highly unlikely. Since these are the only rows with such distinct data, I will drop these rows."
   ]
  },
  {
   "cell_type": "code",
   "execution_count": 54,
   "id": "774fca15",
   "metadata": {},
   "outputs": [],
   "source": [
    "df.drop(df[df['babies'] > 4].index, inplace = True)"
   ]
  },
  {
   "cell_type": "markdown",
   "id": "67fe72fd",
   "metadata": {},
   "source": [
    "I am adding the adults, children and babies columns to create a new columns that will have the total_members."
   ]
  },
  {
   "cell_type": "code",
   "execution_count": 55,
   "id": "a3fa0787",
   "metadata": {},
   "outputs": [],
   "source": [
    "df['total_members'] = df['adults'] + df['children'] + df['babies'] "
   ]
  },
  {
   "cell_type": "markdown",
   "id": "3997b846",
   "metadata": {},
   "source": [
    "Type of meal booked. Categories are presented in standard hospitality meal packages:\n",
    "Undefined/SC – no meal package;\n",
    "BB – Bed & Breakfast;\n",
    "HB – Half board (breakfast and one other meal – usually dinner);\n",
    "FB – Full board (breakfast, lunch and dinner)"
   ]
  },
  {
   "cell_type": "code",
   "execution_count": 56,
   "id": "a7335db0",
   "metadata": {},
   "outputs": [
    {
     "data": {
      "text/plain": [
       "BB           67560\n",
       "SC            9474\n",
       "HB            9056\n",
       "Undefined      488\n",
       "FB             360\n",
       "Name: meal, dtype: int64"
      ]
     },
     "execution_count": 56,
     "metadata": {},
     "output_type": "execute_result"
    }
   ],
   "source": [
    "df['meal'].value_counts()"
   ]
  },
  {
   "cell_type": "markdown",
   "id": "768a67d7",
   "metadata": {},
   "source": [
    "In the dataset information - Undefined and SC are given as the same thing. So need for new category."
   ]
  },
  {
   "cell_type": "code",
   "execution_count": 57,
   "id": "a90abac5",
   "metadata": {},
   "outputs": [
    {
     "data": {
      "text/plain": [
       "BB    67560\n",
       "SC     9962\n",
       "HB     9056\n",
       "FB      360\n",
       "Name: meal, dtype: int64"
      ]
     },
     "execution_count": 57,
     "metadata": {},
     "output_type": "execute_result"
    }
   ],
   "source": [
    "df['meal'].replace(to_replace = 'Undefined', value = 'SC', inplace = True)\n",
    "df['meal'].value_counts()"
   ]
  },
  {
   "cell_type": "markdown",
   "id": "320d91cc",
   "metadata": {},
   "source": [
    "country - Country of origin. Categories are represented in the ISO 3155–3:2013 format"
   ]
  },
  {
   "cell_type": "code",
   "execution_count": 58,
   "id": "7659df7c",
   "metadata": {},
   "outputs": [
    {
     "data": {
      "text/plain": [
       "count     86938\n",
       "unique      177\n",
       "top         PRT\n",
       "freq      27448\n",
       "Name: country, dtype: object"
      ]
     },
     "execution_count": 58,
     "metadata": {},
     "output_type": "execute_result"
    }
   ],
   "source": [
    "df['country'].describe()"
   ]
  },
  {
   "cell_type": "code",
   "execution_count": 59,
   "id": "8992169d",
   "metadata": {},
   "outputs": [
    {
     "data": {
      "text/plain": [
       "PRT    27448\n",
       "GBR    10432\n",
       "FRA     8837\n",
       "ESP     7252\n",
       "DEU     5387\n",
       "       ...  \n",
       "BWA        1\n",
       "DJI        1\n",
       "CYM        1\n",
       "SDN        1\n",
       "SMR        1\n",
       "Name: country, Length: 177, dtype: int64"
      ]
     },
     "execution_count": 59,
     "metadata": {},
     "output_type": "execute_result"
    }
   ],
   "source": [
    "df['country'].value_counts()"
   ]
  },
  {
   "cell_type": "markdown",
   "id": "9aa9c3e3",
   "metadata": {},
   "source": [
    "These hotels receive guests from 177 countries!"
   ]
  },
  {
   "cell_type": "markdown",
   "id": "f594dc83",
   "metadata": {},
   "source": [
    "market_segment - Market segment designation. In categories, the term “TA” means “Travel Agents” and “TO” means “Tour Operators”"
   ]
  },
  {
   "cell_type": "code",
   "execution_count": 60,
   "id": "72f0dc94",
   "metadata": {},
   "outputs": [
    {
     "data": {
      "text/plain": [
       "Online TA        51542\n",
       "Offline TA/TO    13857\n",
       "Direct           11647\n",
       "Groups            4937\n",
       "Corporate         4030\n",
       "Complementary      698\n",
       "Aviation           227\n",
       "Name: market_segment, dtype: int64"
      ]
     },
     "execution_count": 60,
     "metadata": {},
     "output_type": "execute_result"
    }
   ],
   "source": [
    "df['market_segment'].value_counts()"
   ]
  },
  {
   "cell_type": "markdown",
   "id": "6dc2b0e1",
   "metadata": {},
   "source": [
    "distribution_channel - Booking distribution channel. The term “TA” means “Travel Agents” and “TO” means “Tour Operators”"
   ]
  },
  {
   "cell_type": "code",
   "execution_count": 61,
   "id": "19665100",
   "metadata": {},
   "outputs": [
    {
     "data": {
      "text/plain": [
       "TA/TO        69027\n",
       "Direct       12827\n",
       "Corporate     4902\n",
       "GDS            181\n",
       "Undefined        1\n",
       "Name: distribution_channel, dtype: int64"
      ]
     },
     "execution_count": 61,
     "metadata": {},
     "output_type": "execute_result"
    }
   ],
   "source": [
    "df['distribution_channel'].value_counts()"
   ]
  },
  {
   "cell_type": "code",
   "execution_count": 62,
   "id": "d1c4b288",
   "metadata": {},
   "outputs": [
    {
     "data": {
      "text/html": [
       "<div>\n",
       "<style scoped>\n",
       "    .dataframe tbody tr th:only-of-type {\n",
       "        vertical-align: middle;\n",
       "    }\n",
       "\n",
       "    .dataframe tbody tr th {\n",
       "        vertical-align: top;\n",
       "    }\n",
       "\n",
       "    .dataframe thead th {\n",
       "        text-align: right;\n",
       "    }\n",
       "</style>\n",
       "<table border=\"1\" class=\"dataframe\">\n",
       "  <thead>\n",
       "    <tr style=\"text-align: right;\">\n",
       "      <th></th>\n",
       "      <th>hotel</th>\n",
       "      <th>is_canceled</th>\n",
       "      <th>lead_time</th>\n",
       "      <th>arrival_date_year</th>\n",
       "      <th>arrival_date_month</th>\n",
       "      <th>arrival_date_week_number</th>\n",
       "      <th>arrival_date_day_of_month</th>\n",
       "      <th>stays_in_weekend_nights</th>\n",
       "      <th>stays_in_week_nights</th>\n",
       "      <th>adults</th>\n",
       "      <th>children</th>\n",
       "      <th>babies</th>\n",
       "      <th>meal</th>\n",
       "      <th>country</th>\n",
       "      <th>market_segment</th>\n",
       "      <th>distribution_channel</th>\n",
       "      <th>is_repeated_guest</th>\n",
       "      <th>previous_cancellations</th>\n",
       "      <th>previous_bookings_not_canceled</th>\n",
       "      <th>reserved_room_type</th>\n",
       "      <th>assigned_room_type</th>\n",
       "      <th>booking_changes</th>\n",
       "      <th>deposit_type</th>\n",
       "      <th>days_in_waiting_list</th>\n",
       "      <th>customer_type</th>\n",
       "      <th>adr</th>\n",
       "      <th>required_car_parking_spaces</th>\n",
       "      <th>total_of_special_requests</th>\n",
       "      <th>reservation_status</th>\n",
       "      <th>reservation_status_date</th>\n",
       "      <th>arrival_date</th>\n",
       "      <th>total_stay</th>\n",
       "      <th>total_members</th>\n",
       "    </tr>\n",
       "  </thead>\n",
       "  <tbody>\n",
       "    <tr>\n",
       "      <th>14594</th>\n",
       "      <td>Resort_Hotel</td>\n",
       "      <td>0</td>\n",
       "      <td>103</td>\n",
       "      <td>2015</td>\n",
       "      <td>July</td>\n",
       "      <td>28</td>\n",
       "      <td>5</td>\n",
       "      <td>2</td>\n",
       "      <td>3</td>\n",
       "      <td>2</td>\n",
       "      <td>1</td>\n",
       "      <td>0</td>\n",
       "      <td>HB</td>\n",
       "      <td>PRT</td>\n",
       "      <td>Direct</td>\n",
       "      <td>Undefined</td>\n",
       "      <td>0</td>\n",
       "      <td>0</td>\n",
       "      <td>0</td>\n",
       "      <td>A</td>\n",
       "      <td>A</td>\n",
       "      <td>0</td>\n",
       "      <td>No Deposit</td>\n",
       "      <td>0</td>\n",
       "      <td>Transient</td>\n",
       "      <td>112.7</td>\n",
       "      <td>1</td>\n",
       "      <td>2</td>\n",
       "      <td>Check-Out</td>\n",
       "      <td>2015-07-10</td>\n",
       "      <td>2015-07-05</td>\n",
       "      <td>5</td>\n",
       "      <td>3</td>\n",
       "    </tr>\n",
       "  </tbody>\n",
       "</table>\n",
       "</div>"
      ],
      "text/plain": [
       "              hotel  is_canceled  lead_time  arrival_date_year  \\\n",
       "14594  Resort_Hotel            0        103               2015   \n",
       "\n",
       "      arrival_date_month  arrival_date_week_number  arrival_date_day_of_month  \\\n",
       "14594               July                        28                          5   \n",
       "\n",
       "       stays_in_weekend_nights  stays_in_week_nights  adults  children  \\\n",
       "14594                        2                     3       2         1   \n",
       "\n",
       "       babies meal country market_segment distribution_channel  \\\n",
       "14594       0   HB     PRT         Direct            Undefined   \n",
       "\n",
       "       is_repeated_guest  previous_cancellations  \\\n",
       "14594                  0                       0   \n",
       "\n",
       "       previous_bookings_not_canceled reserved_room_type assigned_room_type  \\\n",
       "14594                               0                  A                  A   \n",
       "\n",
       "       booking_changes deposit_type  days_in_waiting_list customer_type  \\\n",
       "14594                0   No Deposit                     0     Transient   \n",
       "\n",
       "         adr  required_car_parking_spaces  total_of_special_requests  \\\n",
       "14594  112.7                            1                          2   \n",
       "\n",
       "      reservation_status reservation_status_date arrival_date  total_stay  \\\n",
       "14594          Check-Out              2015-07-10   2015-07-05           5   \n",
       "\n",
       "       total_members  \n",
       "14594              3  "
      ]
     },
     "execution_count": 62,
     "metadata": {},
     "output_type": "execute_result"
    }
   ],
   "source": [
    "df[df['distribution_channel'] == 'Undefined']"
   ]
  },
  {
   "cell_type": "code",
   "execution_count": 63,
   "id": "91b015e1",
   "metadata": {},
   "outputs": [],
   "source": [
    "df.drop(df[df['distribution_channel'] == 'Undefined'].index, inplace = True)"
   ]
  },
  {
   "cell_type": "markdown",
   "id": "1a89a22b",
   "metadata": {},
   "source": [
    "is_repeated_guest - Value indicating if the booking name was from a repeated guest (1) or not (0)"
   ]
  },
  {
   "cell_type": "code",
   "execution_count": 64,
   "id": "333641d8",
   "metadata": {},
   "outputs": [
    {
     "data": {
      "text/plain": [
       "0    83526\n",
       "1     3411\n",
       "Name: is_repeated_guest, dtype: int64"
      ]
     },
     "execution_count": 64,
     "metadata": {},
     "output_type": "execute_result"
    }
   ],
   "source": [
    "df['is_repeated_guest'].value_counts()"
   ]
  },
  {
   "cell_type": "markdown",
   "id": "590ac9da",
   "metadata": {},
   "source": [
    "previous_cancellations - Number of previous bookings that were cancelled by the customer prior to the current booking"
   ]
  },
  {
   "cell_type": "code",
   "execution_count": 65,
   "id": "31e368e0",
   "metadata": {},
   "outputs": [
    {
     "data": {
      "text/plain": [
       "count    86937.000000\n",
       "mean         0.030229\n",
       "std          0.369580\n",
       "min          0.000000\n",
       "25%          0.000000\n",
       "50%          0.000000\n",
       "75%          0.000000\n",
       "max         26.000000\n",
       "Name: previous_cancellations, dtype: float64"
      ]
     },
     "execution_count": 65,
     "metadata": {},
     "output_type": "execute_result"
    }
   ],
   "source": [
    "df['previous_cancellations'].describe()"
   ]
  },
  {
   "cell_type": "code",
   "execution_count": 66,
   "id": "4e2eb5f3",
   "metadata": {},
   "outputs": [
    {
     "data": {
      "text/plain": [
       "0     85279\n",
       "1      1383\n",
       "2       109\n",
       "3        61\n",
       "4        30\n",
       "11       27\n",
       "5        19\n",
       "6        17\n",
       "13        4\n",
       "24        2\n",
       "25        2\n",
       "14        1\n",
       "19        1\n",
       "21        1\n",
       "26        1\n",
       "Name: previous_cancellations, dtype: int64"
      ]
     },
     "execution_count": 66,
     "metadata": {},
     "output_type": "execute_result"
    }
   ],
   "source": [
    "df['previous_cancellations'].value_counts()"
   ]
  },
  {
   "cell_type": "markdown",
   "id": "f3f7c8ec",
   "metadata": {},
   "source": [
    "There are multiple outliers with cancellations > 6. Since most of them 1/2 entries, I am not deleting them."
   ]
  },
  {
   "cell_type": "markdown",
   "id": "a347287e",
   "metadata": {},
   "source": [
    "previous_bookings_not_canceled - Number of previous bookings not cancelled by the customer prior to the current booking"
   ]
  },
  {
   "cell_type": "code",
   "execution_count": 67,
   "id": "12d5c81d",
   "metadata": {},
   "outputs": [
    {
     "data": {
      "text/plain": [
       "count    86937.000000\n",
       "mean         0.176714\n",
       "std          1.717914\n",
       "min          0.000000\n",
       "25%          0.000000\n",
       "50%          0.000000\n",
       "75%          0.000000\n",
       "max         72.000000\n",
       "Name: previous_bookings_not_canceled, dtype: float64"
      ]
     },
     "execution_count": 67,
     "metadata": {},
     "output_type": "execute_result"
    }
   ],
   "source": [
    "df['previous_bookings_not_canceled'].describe()"
   ]
  },
  {
   "cell_type": "code",
   "execution_count": 68,
   "id": "dfe0a86f",
   "metadata": {},
   "outputs": [
    {
     "data": {
      "text/plain": [
       "0     83615\n",
       "1      1392\n",
       "2       536\n",
       "3       299\n",
       "4       208\n",
       "      ...  \n",
       "38        1\n",
       "39        1\n",
       "71        1\n",
       "41        1\n",
       "63        1\n",
       "Name: previous_bookings_not_canceled, Length: 73, dtype: int64"
      ]
     },
     "execution_count": 68,
     "metadata": {},
     "output_type": "execute_result"
    }
   ],
   "source": [
    "df['previous_bookings_not_canceled'].value_counts()"
   ]
  },
  {
   "cell_type": "markdown",
   "id": "55d98f9e",
   "metadata": {},
   "source": [
    "reserved_room_type - Code of room type reserved. Code is presented instead of designation for anonymity reasons"
   ]
  },
  {
   "cell_type": "code",
   "execution_count": 69,
   "id": "6522d8e7",
   "metadata": {},
   "outputs": [
    {
     "data": {
      "text/plain": [
       "A    56187\n",
       "D    17369\n",
       "E     6012\n",
       "F     2816\n",
       "G     2041\n",
       "B      995\n",
       "C      914\n",
       "H      596\n",
       "L        6\n",
       "P        1\n",
       "Name: reserved_room_type, dtype: int64"
      ]
     },
     "execution_count": 69,
     "metadata": {},
     "output_type": "execute_result"
    }
   ],
   "source": [
    "df['reserved_room_type'].value_counts()"
   ]
  },
  {
   "cell_type": "markdown",
   "id": "66e01711",
   "metadata": {},
   "source": [
    "assigned_room_type - Code for the type of room assigned to the booking. Sometimes the assigned room type differs from the reserved room type due to hotel operation reasons (e.g. overbooking) or by customer request. Code is presented instead of designation for anonymity reasons"
   ]
  },
  {
   "cell_type": "code",
   "execution_count": 70,
   "id": "6913bc22",
   "metadata": {},
   "outputs": [
    {
     "data": {
      "text/plain": [
       "A    46150\n",
       "D    22277\n",
       "E     7128\n",
       "F     3608\n",
       "G     2484\n",
       "C     2144\n",
       "B     1815\n",
       "H      702\n",
       "I      351\n",
       "K      276\n",
       "P        1\n",
       "L        1\n",
       "Name: assigned_room_type, dtype: int64"
      ]
     },
     "execution_count": 70,
     "metadata": {},
     "output_type": "execute_result"
    }
   ],
   "source": [
    "df['assigned_room_type'].value_counts()"
   ]
  },
  {
   "cell_type": "markdown",
   "id": "908672e5",
   "metadata": {},
   "source": [
    "Creating a new column which tells whether a: 1 = The guest got the same typr of room as they had asked, 0 = The guest did not get the same type of room as they had asked."
   ]
  },
  {
   "cell_type": "code",
   "execution_count": 71,
   "id": "66cee6df",
   "metadata": {},
   "outputs": [],
   "source": [
    "df['assigned_same_room'] = (df['reserved_room_type'] == df['assigned_room_type']).astype(int)"
   ]
  },
  {
   "cell_type": "code",
   "execution_count": 72,
   "id": "12e1e5c2",
   "metadata": {},
   "outputs": [
    {
     "data": {
      "text/plain": [
       "1    74045\n",
       "0    12892\n",
       "Name: assigned_same_room, dtype: int64"
      ]
     },
     "execution_count": 72,
     "metadata": {},
     "output_type": "execute_result"
    }
   ],
   "source": [
    "df['assigned_same_room'].value_counts()"
   ]
  },
  {
   "cell_type": "markdown",
   "id": "9b652f40",
   "metadata": {},
   "source": [
    "Booking_changes - Number of changes/amendments made to the booking from the moment the booking was entered on the PMS until the moment of check-in or cancellation"
   ]
  },
  {
   "cell_type": "code",
   "execution_count": 73,
   "id": "914421ff",
   "metadata": {},
   "outputs": [
    {
     "data": {
      "text/plain": [
       "0     71117\n",
       "1     10838\n",
       "2      3493\n",
       "3       873\n",
       "4       355\n",
       "5       116\n",
       "6        59\n",
       "7        31\n",
       "8        17\n",
       "9         8\n",
       "10        6\n",
       "13        5\n",
       "14        5\n",
       "15        3\n",
       "11        2\n",
       "12        2\n",
       "16        2\n",
       "17        2\n",
       "18        1\n",
       "20        1\n",
       "21        1\n",
       "Name: booking_changes, dtype: int64"
      ]
     },
     "execution_count": 73,
     "metadata": {},
     "output_type": "execute_result"
    }
   ],
   "source": [
    "a = df['booking_changes'].value_counts()\n",
    "a"
   ]
  },
  {
   "cell_type": "code",
   "execution_count": 74,
   "id": "0f1cfc1a",
   "metadata": {},
   "outputs": [
    {
     "data": {
      "text/plain": [
       "261"
      ]
     },
     "execution_count": 74,
     "metadata": {},
     "output_type": "execute_result"
    }
   ],
   "source": [
    "df[df['booking_changes'] > 4].value_counts().sum()"
   ]
  },
  {
   "cell_type": "markdown",
   "id": "1f87e917",
   "metadata": {},
   "source": [
    "There are 261 where the guests made more than 4 changes to their booking status. Some guests changed their booking status 21 times!!\n",
    "\n",
    "Also, we only have dates for the last change made to the reservation status, not for each time a change was made. Hence, the knowledge that a guest changed their reservation 10 or 15 times would not have significant insights. So dropping rows where booking status was changed more than 4 times - 261 rows - 0.007% of rows."
   ]
  },
  {
   "cell_type": "code",
   "execution_count": 75,
   "id": "0fb09544",
   "metadata": {},
   "outputs": [],
   "source": [
    "df.drop(df[df['booking_changes'] > 4].index, inplace = True)"
   ]
  },
  {
   "cell_type": "markdown",
   "id": "07346e1c",
   "metadata": {},
   "source": [
    "Deposit Type - Indication on if the customer made a deposit to guarantee the booking. This variable can assume three categories:\n",
    "No Deposit – no deposit was made;\n",
    "Non Refund – a deposit was made in the value of the total stay cost;\n",
    "Refundable – a deposit was made with a value under the total cost of stay"
   ]
  },
  {
   "cell_type": "code",
   "execution_count": 76,
   "id": "fa5fdf87",
   "metadata": {},
   "outputs": [
    {
     "data": {
      "text/plain": [
       "No Deposit    85532\n",
       "Non Refund     1037\n",
       "Refundable      107\n",
       "Name: deposit_type, dtype: int64"
      ]
     },
     "execution_count": 76,
     "metadata": {},
     "output_type": "execute_result"
    }
   ],
   "source": [
    "df['deposit_type'].value_counts()"
   ]
  },
  {
   "cell_type": "markdown",
   "id": "fcd71b9f",
   "metadata": {},
   "source": [
    "days_in_waiting_list - Number of days the booking was in the waiting list before it was confirmed to the customer"
   ]
  },
  {
   "cell_type": "code",
   "execution_count": 77,
   "id": "fc5a0b0e",
   "metadata": {},
   "outputs": [
    {
     "data": {
      "text/plain": [
       "count    86676.000000\n",
       "mean         0.752227\n",
       "std         10.041750\n",
       "min          0.000000\n",
       "25%          0.000000\n",
       "50%          0.000000\n",
       "75%          0.000000\n",
       "max        391.000000\n",
       "Name: days_in_waiting_list, dtype: float64"
      ]
     },
     "execution_count": 77,
     "metadata": {},
     "output_type": "execute_result"
    }
   ],
   "source": [
    "df['days_in_waiting_list'].describe()"
   ]
  },
  {
   "cell_type": "markdown",
   "id": "6fbd243c",
   "metadata": {},
   "source": [
    "Waiting_list statistics when wait is more than 0 i.e there is some waiting time."
   ]
  },
  {
   "cell_type": "code",
   "execution_count": 78,
   "id": "96beed7f",
   "metadata": {},
   "outputs": [
    {
     "data": {
      "text/plain": [
       "count    854.000000\n",
       "mean      76.346604\n",
       "std       66.843691\n",
       "min        1.000000\n",
       "25%       33.000000\n",
       "50%       59.000000\n",
       "75%       99.000000\n",
       "max      391.000000\n",
       "Name: days_in_waiting_list, dtype: float64"
      ]
     },
     "execution_count": 78,
     "metadata": {},
     "output_type": "execute_result"
    }
   ],
   "source": [
    "df[df['days_in_waiting_list'] >0]['days_in_waiting_list'].describe()"
   ]
  },
  {
   "cell_type": "code",
   "execution_count": 79,
   "id": "802c6344",
   "metadata": {},
   "outputs": [
    {
     "data": {
      "text/plain": [
       "{'whiskers': [<matplotlib.lines.Line2D at 0x289850494c0>,\n",
       "  <matplotlib.lines.Line2D at 0x28985049400>],\n",
       " 'caps': [<matplotlib.lines.Line2D at 0x289852916a0>,\n",
       "  <matplotlib.lines.Line2D at 0x28985291730>],\n",
       " 'boxes': [<matplotlib.lines.Line2D at 0x28984fe66d0>],\n",
       " 'medians': [<matplotlib.lines.Line2D at 0x289850acd90>],\n",
       " 'fliers': [<matplotlib.lines.Line2D at 0x28985044d00>],\n",
       " 'means': []}"
      ]
     },
     "execution_count": 79,
     "metadata": {},
     "output_type": "execute_result"
    },
    {
     "data": {
      "image/png": "[encoded data removed]",
      "text/plain": [
       "<Figure size 432x288 with 1 Axes>"
      ]
     },
     "metadata": {
      "needs_background": "light"
     },
     "output_type": "display_data"
    }
   ],
   "source": [
    "plt.boxplot(df[df['days_in_waiting_list'] >0]['days_in_waiting_list'])"
   ]
  },
  {
   "cell_type": "code",
   "execution_count": 80,
   "id": "01139a96",
   "metadata": {},
   "outputs": [
    {
     "data": {
      "text/plain": [
       "City_Hotel      714\n",
       "Resort_Hotel    140\n",
       "Name: hotel, dtype: int64"
      ]
     },
     "execution_count": 80,
     "metadata": {},
     "output_type": "execute_result"
    }
   ],
   "source": [
    "df[df['days_in_waiting_list'] >0]['hotel'].value_counts()"
   ]
  },
  {
   "cell_type": "code",
   "execution_count": 81,
   "id": "d46c0138",
   "metadata": {},
   "outputs": [
    {
     "data": {
      "text/plain": [
       "City_Hotel    63\n",
       "Name: hotel, dtype: int64"
      ]
     },
     "execution_count": 81,
     "metadata": {},
     "output_type": "execute_result"
    }
   ],
   "source": [
    "df[df['days_in_waiting_list'] >185]['hotel'].value_counts()"
   ]
  },
  {
   "cell_type": "markdown",
   "id": "ad3f955f",
   "metadata": {},
   "source": [
    "Of the 854 guests who had to wait, 83.65% had reserved rooms in the City Hotel. At the Resort Hotel, no one had to wait for more than 185 days before getting a confirmation."
   ]
  },
  {
   "cell_type": "markdown",
   "id": "ce78e909",
   "metadata": {},
   "source": []
  },
  {
   "cell_type": "markdown",
   "id": "868d36e5",
   "metadata": {},
   "source": [
    "customer_type - Type of booking, assuming one of four categories:\n",
    "\n",
    "Contract - when the booking has an allotment or other type of contract associated to it;\n",
    "Group – when the booking is associated to a group;\n",
    "Transient – when the booking is not part of a group or contract, and is not associated to other transient booking;\n",
    "Transient-party – when the booking is transient, but is associated to at least other transient booking"
   ]
  },
  {
   "cell_type": "code",
   "execution_count": 82,
   "id": "4bc9a0d4",
   "metadata": {},
   "outputs": [
    {
     "data": {
      "text/plain": [
       "Transient          71416\n",
       "Transient-Party    11587\n",
       "Contract            3137\n",
       "Group                536\n",
       "Name: customer_type, dtype: int64"
      ]
     },
     "execution_count": 82,
     "metadata": {},
     "output_type": "execute_result"
    }
   ],
   "source": [
    "df['customer_type'].value_counts()"
   ]
  },
  {
   "cell_type": "markdown",
   "id": "b1a047be",
   "metadata": {},
   "source": [
    "adr - Average Daily Rate as defined by dividing the sum of all lodging transactions by the total number of staying nights"
   ]
  },
  {
   "cell_type": "code",
   "execution_count": 83,
   "id": "30579f87",
   "metadata": {},
   "outputs": [
    {
     "data": {
      "text/plain": [
       "count    86676.000000\n",
       "mean       106.598973\n",
       "std         54.915054\n",
       "min         -6.380000\n",
       "25%         72.250000\n",
       "50%         98.500000\n",
       "75%        134.100000\n",
       "max       5400.000000\n",
       "Name: adr, dtype: float64"
      ]
     },
     "execution_count": 83,
     "metadata": {},
     "output_type": "execute_result"
    }
   ],
   "source": [
    "df['adr'].describe()"
   ]
  },
  {
   "cell_type": "code",
   "execution_count": 84,
   "id": "825140fc",
   "metadata": {},
   "outputs": [
    {
     "data": {
      "text/html": [
       "<div>\n",
       "<style scoped>\n",
       "    .dataframe tbody tr th:only-of-type {\n",
       "        vertical-align: middle;\n",
       "    }\n",
       "\n",
       "    .dataframe tbody tr th {\n",
       "        vertical-align: top;\n",
       "    }\n",
       "\n",
       "    .dataframe thead th {\n",
       "        text-align: right;\n",
       "    }\n",
       "</style>\n",
       "<table border=\"1\" class=\"dataframe\">\n",
       "  <thead>\n",
       "    <tr style=\"text-align: right;\">\n",
       "      <th></th>\n",
       "      <th>hotel</th>\n",
       "      <th>is_canceled</th>\n",
       "      <th>lead_time</th>\n",
       "      <th>arrival_date_year</th>\n",
       "      <th>arrival_date_month</th>\n",
       "      <th>arrival_date_week_number</th>\n",
       "      <th>arrival_date_day_of_month</th>\n",
       "      <th>stays_in_weekend_nights</th>\n",
       "      <th>stays_in_week_nights</th>\n",
       "      <th>adults</th>\n",
       "      <th>children</th>\n",
       "      <th>babies</th>\n",
       "      <th>meal</th>\n",
       "      <th>country</th>\n",
       "      <th>market_segment</th>\n",
       "      <th>distribution_channel</th>\n",
       "      <th>is_repeated_guest</th>\n",
       "      <th>previous_cancellations</th>\n",
       "      <th>previous_bookings_not_canceled</th>\n",
       "      <th>reserved_room_type</th>\n",
       "      <th>assigned_room_type</th>\n",
       "      <th>booking_changes</th>\n",
       "      <th>deposit_type</th>\n",
       "      <th>days_in_waiting_list</th>\n",
       "      <th>customer_type</th>\n",
       "      <th>adr</th>\n",
       "      <th>required_car_parking_spaces</th>\n",
       "      <th>total_of_special_requests</th>\n",
       "      <th>reservation_status</th>\n",
       "      <th>reservation_status_date</th>\n",
       "      <th>arrival_date</th>\n",
       "      <th>total_stay</th>\n",
       "      <th>total_members</th>\n",
       "      <th>assigned_same_room</th>\n",
       "    </tr>\n",
       "  </thead>\n",
       "  <tbody>\n",
       "    <tr>\n",
       "      <th>14969</th>\n",
       "      <td>Resort_Hotel</td>\n",
       "      <td>0</td>\n",
       "      <td>195</td>\n",
       "      <td>2017</td>\n",
       "      <td>March</td>\n",
       "      <td>10</td>\n",
       "      <td>5</td>\n",
       "      <td>4</td>\n",
       "      <td>6</td>\n",
       "      <td>2</td>\n",
       "      <td>0</td>\n",
       "      <td>0</td>\n",
       "      <td>BB</td>\n",
       "      <td>GBR</td>\n",
       "      <td>Groups</td>\n",
       "      <td>Direct</td>\n",
       "      <td>1</td>\n",
       "      <td>0</td>\n",
       "      <td>2</td>\n",
       "      <td>A</td>\n",
       "      <td>H</td>\n",
       "      <td>2</td>\n",
       "      <td>No Deposit</td>\n",
       "      <td>0</td>\n",
       "      <td>Transient-Party</td>\n",
       "      <td>-6.38</td>\n",
       "      <td>0</td>\n",
       "      <td>0</td>\n",
       "      <td>Check-Out</td>\n",
       "      <td>2017-03-15</td>\n",
       "      <td>2017-03-05</td>\n",
       "      <td>10</td>\n",
       "      <td>2</td>\n",
       "      <td>0</td>\n",
       "    </tr>\n",
       "  </tbody>\n",
       "</table>\n",
       "</div>"
      ],
      "text/plain": [
       "              hotel  is_canceled  lead_time  arrival_date_year  \\\n",
       "14969  Resort_Hotel            0        195               2017   \n",
       "\n",
       "      arrival_date_month  arrival_date_week_number  arrival_date_day_of_month  \\\n",
       "14969              March                        10                          5   \n",
       "\n",
       "       stays_in_weekend_nights  stays_in_week_nights  adults  children  \\\n",
       "14969                        4                     6       2         0   \n",
       "\n",
       "       babies meal country market_segment distribution_channel  \\\n",
       "14969       0   BB     GBR         Groups               Direct   \n",
       "\n",
       "       is_repeated_guest  previous_cancellations  \\\n",
       "14969                  1                       0   \n",
       "\n",
       "       previous_bookings_not_canceled reserved_room_type assigned_room_type  \\\n",
       "14969                               2                  A                  H   \n",
       "\n",
       "       booking_changes deposit_type  days_in_waiting_list    customer_type  \\\n",
       "14969                2   No Deposit                     0  Transient-Party   \n",
       "\n",
       "        adr  required_car_parking_spaces  total_of_special_requests  \\\n",
       "14969 -6.38                            0                          0   \n",
       "\n",
       "      reservation_status reservation_status_date arrival_date  total_stay  \\\n",
       "14969          Check-Out              2017-03-15   2017-03-05          10   \n",
       "\n",
       "       total_members  assigned_same_room  \n",
       "14969              2                   0  "
      ]
     },
     "execution_count": 84,
     "metadata": {},
     "output_type": "execute_result"
    }
   ],
   "source": [
    "df[df['adr'] < 0]"
   ]
  },
  {
   "cell_type": "code",
   "execution_count": 85,
   "id": "579955ab",
   "metadata": {},
   "outputs": [
    {
     "data": {
      "text/html": [
       "<div>\n",
       "<style scoped>\n",
       "    .dataframe tbody tr th:only-of-type {\n",
       "        vertical-align: middle;\n",
       "    }\n",
       "\n",
       "    .dataframe tbody tr th {\n",
       "        vertical-align: top;\n",
       "    }\n",
       "\n",
       "    .dataframe thead th {\n",
       "        text-align: right;\n",
       "    }\n",
       "</style>\n",
       "<table border=\"1\" class=\"dataframe\">\n",
       "  <thead>\n",
       "    <tr style=\"text-align: right;\">\n",
       "      <th></th>\n",
       "      <th>hotel</th>\n",
       "      <th>is_canceled</th>\n",
       "      <th>lead_time</th>\n",
       "      <th>arrival_date_year</th>\n",
       "      <th>arrival_date_month</th>\n",
       "      <th>arrival_date_week_number</th>\n",
       "      <th>arrival_date_day_of_month</th>\n",
       "      <th>stays_in_weekend_nights</th>\n",
       "      <th>stays_in_week_nights</th>\n",
       "      <th>adults</th>\n",
       "      <th>children</th>\n",
       "      <th>babies</th>\n",
       "      <th>meal</th>\n",
       "      <th>country</th>\n",
       "      <th>market_segment</th>\n",
       "      <th>distribution_channel</th>\n",
       "      <th>is_repeated_guest</th>\n",
       "      <th>previous_cancellations</th>\n",
       "      <th>previous_bookings_not_canceled</th>\n",
       "      <th>reserved_room_type</th>\n",
       "      <th>assigned_room_type</th>\n",
       "      <th>booking_changes</th>\n",
       "      <th>deposit_type</th>\n",
       "      <th>days_in_waiting_list</th>\n",
       "      <th>customer_type</th>\n",
       "      <th>adr</th>\n",
       "      <th>required_car_parking_spaces</th>\n",
       "      <th>total_of_special_requests</th>\n",
       "      <th>reservation_status</th>\n",
       "      <th>reservation_status_date</th>\n",
       "      <th>arrival_date</th>\n",
       "      <th>total_stay</th>\n",
       "      <th>total_members</th>\n",
       "      <th>assigned_same_room</th>\n",
       "    </tr>\n",
       "  </thead>\n",
       "  <tbody>\n",
       "    <tr>\n",
       "      <th>15083</th>\n",
       "      <td>Resort_Hotel</td>\n",
       "      <td>0</td>\n",
       "      <td>1</td>\n",
       "      <td>2015</td>\n",
       "      <td>July</td>\n",
       "      <td>29</td>\n",
       "      <td>15</td>\n",
       "      <td>0</td>\n",
       "      <td>1</td>\n",
       "      <td>2</td>\n",
       "      <td>0</td>\n",
       "      <td>0</td>\n",
       "      <td>BB</td>\n",
       "      <td>PRT</td>\n",
       "      <td>Corporate</td>\n",
       "      <td>Corporate</td>\n",
       "      <td>1</td>\n",
       "      <td>0</td>\n",
       "      <td>1</td>\n",
       "      <td>A</td>\n",
       "      <td>C</td>\n",
       "      <td>0</td>\n",
       "      <td>No Deposit</td>\n",
       "      <td>0</td>\n",
       "      <td>Transient</td>\n",
       "      <td>508.0</td>\n",
       "      <td>1</td>\n",
       "      <td>0</td>\n",
       "      <td>Check-Out</td>\n",
       "      <td>2015-07-16</td>\n",
       "      <td>2015-07-15</td>\n",
       "      <td>1</td>\n",
       "      <td>2</td>\n",
       "      <td>0</td>\n",
       "    </tr>\n",
       "    <tr>\n",
       "      <th>48515</th>\n",
       "      <td>City_Hotel</td>\n",
       "      <td>1</td>\n",
       "      <td>35</td>\n",
       "      <td>2016</td>\n",
       "      <td>March</td>\n",
       "      <td>13</td>\n",
       "      <td>25</td>\n",
       "      <td>0</td>\n",
       "      <td>1</td>\n",
       "      <td>2</td>\n",
       "      <td>0</td>\n",
       "      <td>0</td>\n",
       "      <td>BB</td>\n",
       "      <td>PRT</td>\n",
       "      <td>Offline TA/TO</td>\n",
       "      <td>TA/TO</td>\n",
       "      <td>0</td>\n",
       "      <td>0</td>\n",
       "      <td>0</td>\n",
       "      <td>A</td>\n",
       "      <td>A</td>\n",
       "      <td>1</td>\n",
       "      <td>Non Refund</td>\n",
       "      <td>0</td>\n",
       "      <td>Transient</td>\n",
       "      <td>5400.0</td>\n",
       "      <td>0</td>\n",
       "      <td>0</td>\n",
       "      <td>Canceled</td>\n",
       "      <td>2016-02-19</td>\n",
       "      <td>2016-03-25</td>\n",
       "      <td>1</td>\n",
       "      <td>2</td>\n",
       "      <td>1</td>\n",
       "    </tr>\n",
       "    <tr>\n",
       "      <th>111403</th>\n",
       "      <td>City_Hotel</td>\n",
       "      <td>0</td>\n",
       "      <td>0</td>\n",
       "      <td>2017</td>\n",
       "      <td>May</td>\n",
       "      <td>19</td>\n",
       "      <td>9</td>\n",
       "      <td>0</td>\n",
       "      <td>1</td>\n",
       "      <td>1</td>\n",
       "      <td>0</td>\n",
       "      <td>0</td>\n",
       "      <td>BB</td>\n",
       "      <td>ITA</td>\n",
       "      <td>Offline TA/TO</td>\n",
       "      <td>TA/TO</td>\n",
       "      <td>0</td>\n",
       "      <td>0</td>\n",
       "      <td>0</td>\n",
       "      <td>A</td>\n",
       "      <td>G</td>\n",
       "      <td>0</td>\n",
       "      <td>No Deposit</td>\n",
       "      <td>0</td>\n",
       "      <td>Transient</td>\n",
       "      <td>510.0</td>\n",
       "      <td>0</td>\n",
       "      <td>0</td>\n",
       "      <td>Check-Out</td>\n",
       "      <td>2017-05-10</td>\n",
       "      <td>2017-05-09</td>\n",
       "      <td>1</td>\n",
       "      <td>1</td>\n",
       "      <td>0</td>\n",
       "    </tr>\n",
       "  </tbody>\n",
       "</table>\n",
       "</div>"
      ],
      "text/plain": [
       "               hotel  is_canceled  lead_time  arrival_date_year  \\\n",
       "15083   Resort_Hotel            0          1               2015   \n",
       "48515     City_Hotel            1         35               2016   \n",
       "111403    City_Hotel            0          0               2017   \n",
       "\n",
       "       arrival_date_month  arrival_date_week_number  \\\n",
       "15083                July                        29   \n",
       "48515               March                        13   \n",
       "111403                May                        19   \n",
       "\n",
       "        arrival_date_day_of_month  stays_in_weekend_nights  \\\n",
       "15083                          15                        0   \n",
       "48515                          25                        0   \n",
       "111403                          9                        0   \n",
       "\n",
       "        stays_in_week_nights  adults  children  babies meal country  \\\n",
       "15083                      1       2         0       0   BB     PRT   \n",
       "48515                      1       2         0       0   BB     PRT   \n",
       "111403                     1       1         0       0   BB     ITA   \n",
       "\n",
       "       market_segment distribution_channel  is_repeated_guest  \\\n",
       "15083       Corporate            Corporate                  1   \n",
       "48515   Offline TA/TO                TA/TO                  0   \n",
       "111403  Offline TA/TO                TA/TO                  0   \n",
       "\n",
       "        previous_cancellations  previous_bookings_not_canceled  \\\n",
       "15083                        0                               1   \n",
       "48515                        0                               0   \n",
       "111403                       0                               0   \n",
       "\n",
       "       reserved_room_type assigned_room_type  booking_changes deposit_type  \\\n",
       "15083                   A                  C                0   No Deposit   \n",
       "48515                   A                  A                1   Non Refund   \n",
       "111403                  A                  G                0   No Deposit   \n",
       "\n",
       "        days_in_waiting_list customer_type     adr  \\\n",
       "15083                      0     Transient   508.0   \n",
       "48515                      0     Transient  5400.0   \n",
       "111403                     0     Transient   510.0   \n",
       "\n",
       "        required_car_parking_spaces  total_of_special_requests  \\\n",
       "15083                             1                          0   \n",
       "48515                             0                          0   \n",
       "111403                            0                          0   \n",
       "\n",
       "       reservation_status reservation_status_date arrival_date  total_stay  \\\n",
       "15083           Check-Out              2015-07-16   2015-07-15           1   \n",
       "48515            Canceled              2016-02-19   2016-03-25           1   \n",
       "111403          Check-Out              2017-05-10   2017-05-09           1   \n",
       "\n",
       "        total_members  assigned_same_room  \n",
       "15083               2                   0  \n",
       "48515               2                   1  \n",
       "111403              1                   0  "
      ]
     },
     "execution_count": 85,
     "metadata": {},
     "output_type": "execute_result"
    }
   ],
   "source": [
    "df[df['adr'] >500]"
   ]
  },
  {
   "cell_type": "markdown",
   "id": "a5d589d8",
   "metadata": {},
   "source": [
    "Minimum value of adr is -6. Average daily rate cannot be negative, will drop this row. Another entry has adr 5400. This is not in the realistic range."
   ]
  },
  {
   "cell_type": "code",
   "execution_count": 86,
   "id": "09582a79",
   "metadata": {},
   "outputs": [
    {
     "data": {
      "text/plain": [
       "Text(0, 0.5, 'ADR')"
      ]
     },
     "execution_count": 86,
     "metadata": {},
     "output_type": "execute_result"
    },
    {
     "data": {
      "image/png": "[encoded data removed]",
      "text/plain": [
       "<Figure size 432x288 with 1 Axes>"
      ]
     },
     "metadata": {
      "needs_background": "light"
     },
     "output_type": "display_data"
    }
   ],
   "source": [
    "plt.plot(df['adr'])\n",
    "plt.xlabel('Index')\n",
    "plt.ylabel('ADR')"
   ]
  },
  {
   "cell_type": "code",
   "execution_count": 87,
   "id": "f59d637d",
   "metadata": {},
   "outputs": [
    {
     "data": {
      "text/plain": [
       "Text(0, 0.5, 'ADR')"
      ]
     },
     "execution_count": 87,
     "metadata": {},
     "output_type": "execute_result"
    },
    {
     "data": {
      "image/png": "[encoded data removed]",
      "text/plain": [
       "<Figure size 432x288 with 1 Axes>"
      ]
     },
     "metadata": {
      "needs_background": "light"
     },
     "output_type": "display_data"
    }
   ],
   "source": [
    "plt.boxplot(df['adr'])\n",
    "plt.xlabel('Index')\n",
    "plt.ylabel('ADR')"
   ]
  },
  {
   "cell_type": "code",
   "execution_count": 88,
   "id": "7208a0d0",
   "metadata": {},
   "outputs": [],
   "source": [
    "df.drop(df[df['adr'] == 5400].index, inplace = True)\n",
    "df.drop(df[df['adr'] < 0].index, inplace = True)"
   ]
  },
  {
   "cell_type": "markdown",
   "id": "23d4b4c0",
   "metadata": {},
   "source": [
    "required_car_parking_spaces - Number of car parking spaces required by the customer"
   ]
  },
  {
   "cell_type": "code",
   "execution_count": 89,
   "id": "6794b547",
   "metadata": {},
   "outputs": [
    {
     "data": {
      "text/plain": [
       "count    86674.000000\n",
       "mean         0.083324\n",
       "std          0.280228\n",
       "min          0.000000\n",
       "25%          0.000000\n",
       "50%          0.000000\n",
       "75%          0.000000\n",
       "max          8.000000\n",
       "Name: required_car_parking_spaces, dtype: float64"
      ]
     },
     "execution_count": 89,
     "metadata": {},
     "output_type": "execute_result"
    }
   ],
   "source": [
    "df['required_car_parking_spaces'].describe()"
   ]
  },
  {
   "cell_type": "code",
   "execution_count": 90,
   "id": "ea474ed3",
   "metadata": {},
   "outputs": [
    {
     "data": {
      "text/plain": [
       "0    79500\n",
       "1     7141\n",
       "2       28\n",
       "3        3\n",
       "8        2\n",
       "Name: required_car_parking_spaces, dtype: int64"
      ]
     },
     "execution_count": 90,
     "metadata": {},
     "output_type": "execute_result"
    }
   ],
   "source": [
    "df['required_car_parking_spaces'].value_counts()"
   ]
  },
  {
   "cell_type": "markdown",
   "id": "78ac408e",
   "metadata": {},
   "source": [
    "Requiring 8 parking seems a lot. Let's check"
   ]
  },
  {
   "cell_type": "code",
   "execution_count": 91,
   "id": "8fb9ef59",
   "metadata": {},
   "outputs": [
    {
     "data": {
      "text/html": [
       "<div>\n",
       "<style scoped>\n",
       "    .dataframe tbody tr th:only-of-type {\n",
       "        vertical-align: middle;\n",
       "    }\n",
       "\n",
       "    .dataframe tbody tr th {\n",
       "        vertical-align: top;\n",
       "    }\n",
       "\n",
       "    .dataframe thead th {\n",
       "        text-align: right;\n",
       "    }\n",
       "</style>\n",
       "<table border=\"1\" class=\"dataframe\">\n",
       "  <thead>\n",
       "    <tr style=\"text-align: right;\">\n",
       "      <th></th>\n",
       "      <th>hotel</th>\n",
       "      <th>is_canceled</th>\n",
       "      <th>lead_time</th>\n",
       "      <th>arrival_date_year</th>\n",
       "      <th>arrival_date_month</th>\n",
       "      <th>arrival_date_week_number</th>\n",
       "      <th>arrival_date_day_of_month</th>\n",
       "      <th>stays_in_weekend_nights</th>\n",
       "      <th>stays_in_week_nights</th>\n",
       "      <th>adults</th>\n",
       "      <th>children</th>\n",
       "      <th>babies</th>\n",
       "      <th>meal</th>\n",
       "      <th>country</th>\n",
       "      <th>market_segment</th>\n",
       "      <th>distribution_channel</th>\n",
       "      <th>is_repeated_guest</th>\n",
       "      <th>previous_cancellations</th>\n",
       "      <th>previous_bookings_not_canceled</th>\n",
       "      <th>reserved_room_type</th>\n",
       "      <th>assigned_room_type</th>\n",
       "      <th>booking_changes</th>\n",
       "      <th>deposit_type</th>\n",
       "      <th>days_in_waiting_list</th>\n",
       "      <th>customer_type</th>\n",
       "      <th>adr</th>\n",
       "      <th>required_car_parking_spaces</th>\n",
       "      <th>total_of_special_requests</th>\n",
       "      <th>reservation_status</th>\n",
       "      <th>reservation_status_date</th>\n",
       "      <th>arrival_date</th>\n",
       "      <th>total_stay</th>\n",
       "      <th>total_members</th>\n",
       "      <th>assigned_same_room</th>\n",
       "    </tr>\n",
       "  </thead>\n",
       "  <tbody>\n",
       "    <tr>\n",
       "      <th>29045</th>\n",
       "      <td>Resort_Hotel</td>\n",
       "      <td>0</td>\n",
       "      <td>26</td>\n",
       "      <td>2017</td>\n",
       "      <td>March</td>\n",
       "      <td>11</td>\n",
       "      <td>14</td>\n",
       "      <td>0</td>\n",
       "      <td>5</td>\n",
       "      <td>2</td>\n",
       "      <td>0</td>\n",
       "      <td>0</td>\n",
       "      <td>HB</td>\n",
       "      <td>AUT</td>\n",
       "      <td>Direct</td>\n",
       "      <td>Corporate</td>\n",
       "      <td>1</td>\n",
       "      <td>0</td>\n",
       "      <td>2</td>\n",
       "      <td>E</td>\n",
       "      <td>I</td>\n",
       "      <td>1</td>\n",
       "      <td>No Deposit</td>\n",
       "      <td>0</td>\n",
       "      <td>Transient-Party</td>\n",
       "      <td>40.0</td>\n",
       "      <td>8</td>\n",
       "      <td>1</td>\n",
       "      <td>Check-Out</td>\n",
       "      <td>2017-03-19</td>\n",
       "      <td>2017-03-14</td>\n",
       "      <td>5</td>\n",
       "      <td>2</td>\n",
       "      <td>0</td>\n",
       "    </tr>\n",
       "    <tr>\n",
       "      <th>29046</th>\n",
       "      <td>Resort_Hotel</td>\n",
       "      <td>0</td>\n",
       "      <td>138</td>\n",
       "      <td>2017</td>\n",
       "      <td>March</td>\n",
       "      <td>12</td>\n",
       "      <td>19</td>\n",
       "      <td>2</td>\n",
       "      <td>2</td>\n",
       "      <td>2</td>\n",
       "      <td>0</td>\n",
       "      <td>0</td>\n",
       "      <td>HB</td>\n",
       "      <td>AUT</td>\n",
       "      <td>Direct</td>\n",
       "      <td>Corporate</td>\n",
       "      <td>1</td>\n",
       "      <td>0</td>\n",
       "      <td>2</td>\n",
       "      <td>E</td>\n",
       "      <td>F</td>\n",
       "      <td>1</td>\n",
       "      <td>No Deposit</td>\n",
       "      <td>122</td>\n",
       "      <td>Transient-Party</td>\n",
       "      <td>80.0</td>\n",
       "      <td>8</td>\n",
       "      <td>0</td>\n",
       "      <td>Check-Out</td>\n",
       "      <td>2017-03-23</td>\n",
       "      <td>2017-03-19</td>\n",
       "      <td>4</td>\n",
       "      <td>2</td>\n",
       "      <td>0</td>\n",
       "    </tr>\n",
       "  </tbody>\n",
       "</table>\n",
       "</div>"
      ],
      "text/plain": [
       "              hotel  is_canceled  lead_time  arrival_date_year  \\\n",
       "29045  Resort_Hotel            0         26               2017   \n",
       "29046  Resort_Hotel            0        138               2017   \n",
       "\n",
       "      arrival_date_month  arrival_date_week_number  arrival_date_day_of_month  \\\n",
       "29045              March                        11                         14   \n",
       "29046              March                        12                         19   \n",
       "\n",
       "       stays_in_weekend_nights  stays_in_week_nights  adults  children  \\\n",
       "29045                        0                     5       2         0   \n",
       "29046                        2                     2       2         0   \n",
       "\n",
       "       babies meal country market_segment distribution_channel  \\\n",
       "29045       0   HB     AUT         Direct            Corporate   \n",
       "29046       0   HB     AUT         Direct            Corporate   \n",
       "\n",
       "       is_repeated_guest  previous_cancellations  \\\n",
       "29045                  1                       0   \n",
       "29046                  1                       0   \n",
       "\n",
       "       previous_bookings_not_canceled reserved_room_type assigned_room_type  \\\n",
       "29045                               2                  E                  I   \n",
       "29046                               2                  E                  F   \n",
       "\n",
       "       booking_changes deposit_type  days_in_waiting_list    customer_type  \\\n",
       "29045                1   No Deposit                     0  Transient-Party   \n",
       "29046                1   No Deposit                   122  Transient-Party   \n",
       "\n",
       "        adr  required_car_parking_spaces  total_of_special_requests  \\\n",
       "29045  40.0                            8                          1   \n",
       "29046  80.0                            8                          0   \n",
       "\n",
       "      reservation_status reservation_status_date arrival_date  total_stay  \\\n",
       "29045          Check-Out              2017-03-19   2017-03-14           5   \n",
       "29046          Check-Out              2017-03-23   2017-03-19           4   \n",
       "\n",
       "       total_members  assigned_same_room  \n",
       "29045              2                   0  \n",
       "29046              2                   0  "
      ]
     },
     "execution_count": 91,
     "metadata": {},
     "output_type": "execute_result"
    }
   ],
   "source": [
    "df[df['required_car_parking_spaces'] > 3]"
   ]
  },
  {
   "cell_type": "markdown",
   "id": "86a65c49",
   "metadata": {},
   "source": [
    "Both these entries are for just 2 adults. It seems unlikely that 2 people reserved 8 car parking spaces. The fact that even larger groups at these hotels did not require more than 3 parking spaces is enough to say this entry was an error."
   ]
  },
  {
   "cell_type": "code",
   "execution_count": 92,
   "id": "9eac05c9",
   "metadata": {},
   "outputs": [],
   "source": [
    "df.drop(df[df['required_car_parking_spaces'] > 3].index, inplace = True)"
   ]
  },
  {
   "cell_type": "markdown",
   "id": "b240f317",
   "metadata": {},
   "source": [
    "total_of_special_requests - Number of special requests made by the customer (e.g. twin bed or high floor)"
   ]
  },
  {
   "cell_type": "code",
   "execution_count": 93,
   "id": "2cd62cec",
   "metadata": {},
   "outputs": [
    {
     "data": {
      "text/plain": [
       "count    86672.000000\n",
       "mean         0.699084\n",
       "std          0.831452\n",
       "min          0.000000\n",
       "25%          0.000000\n",
       "50%          0.000000\n",
       "75%          1.000000\n",
       "max          5.000000\n",
       "Name: total_of_special_requests, dtype: float64"
      ]
     },
     "execution_count": 93,
     "metadata": {},
     "output_type": "execute_result"
    }
   ],
   "source": [
    "df['total_of_special_requests'].describe()"
   ]
  },
  {
   "cell_type": "code",
   "execution_count": 94,
   "id": "feca884c",
   "metadata": {},
   "outputs": [
    {
     "data": {
      "text/plain": [
       "0    43475\n",
       "1    28832\n",
       "2    11721\n",
       "3     2293\n",
       "4      317\n",
       "5       34\n",
       "Name: total_of_special_requests, dtype: int64"
      ]
     },
     "execution_count": 94,
     "metadata": {},
     "output_type": "execute_result"
    }
   ],
   "source": [
    "df['total_of_special_requests'].value_counts()"
   ]
  },
  {
   "cell_type": "markdown",
   "id": "f0a6f888",
   "metadata": {},
   "source": [
    "reservation_status - Reservation last status, assuming one of three categories:\n",
    "Canceled – booking was canceled by the customer;\n",
    "Check-Out – customer has checked in but already departed;\n",
    "No-Show – customer did not check-in and did inform the hotel of the reason why"
   ]
  },
  {
   "cell_type": "code",
   "execution_count": 95,
   "id": "9053aff8",
   "metadata": {},
   "outputs": [
    {
     "data": {
      "text/plain": [
       "Check-Out    62734\n",
       "Canceled     22931\n",
       "No-Show       1007\n",
       "Name: reservation_status, dtype: int64"
      ]
     },
     "execution_count": 95,
     "metadata": {},
     "output_type": "execute_result"
    }
   ],
   "source": [
    "df['reservation_status'].value_counts()"
   ]
  },
  {
   "cell_type": "markdown",
   "id": "5b7ce270",
   "metadata": {},
   "source": [
    "reservation_status_date - Date at which the last status was set. This variable can be used in conjunction with the ReservationStatus to understand when was the booking canceled or when did the customer checked-out of the hotel"
   ]
  },
  {
   "cell_type": "code",
   "execution_count": 96,
   "id": "92a1e92e",
   "metadata": {},
   "outputs": [
    {
     "name": "stdout",
     "output_type": "stream",
     "text": [
      "<class 'pandas.core.frame.DataFrame'>\n",
      "Int64Index: 86672 entries, 0 to 119389\n",
      "Data columns (total 34 columns):\n",
      " #   Column                          Non-Null Count  Dtype         \n",
      "---  ------                          --------------  -----         \n",
      " 0   hotel                           86672 non-null  object        \n",
      " 1   is_canceled                     86672 non-null  int64         \n",
      " 2   lead_time                       86672 non-null  int64         \n",
      " 3   arrival_date_year               86672 non-null  int64         \n",
      " 4   arrival_date_month              86672 non-null  object        \n",
      " 5   arrival_date_week_number        86672 non-null  int64         \n",
      " 6   arrival_date_day_of_month       86672 non-null  int64         \n",
      " 7   stays_in_weekend_nights         86672 non-null  int64         \n",
      " 8   stays_in_week_nights            86672 non-null  int64         \n",
      " 9   adults                          86672 non-null  int64         \n",
      " 10  children                        86672 non-null  int32         \n",
      " 11  babies                          86672 non-null  int64         \n",
      " 12  meal                            86672 non-null  object        \n",
      " 13  country                         86672 non-null  object        \n",
      " 14  market_segment                  86672 non-null  object        \n",
      " 15  distribution_channel            86672 non-null  object        \n",
      " 16  is_repeated_guest               86672 non-null  int64         \n",
      " 17  previous_cancellations          86672 non-null  int64         \n",
      " 18  previous_bookings_not_canceled  86672 non-null  int64         \n",
      " 19  reserved_room_type              86672 non-null  object        \n",
      " 20  assigned_room_type              86672 non-null  object        \n",
      " 21  booking_changes                 86672 non-null  int64         \n",
      " 22  deposit_type                    86672 non-null  object        \n",
      " 23  days_in_waiting_list            86672 non-null  int64         \n",
      " 24  customer_type                   86672 non-null  object        \n",
      " 25  adr                             86672 non-null  float64       \n",
      " 26  required_car_parking_spaces     86672 non-null  int64         \n",
      " 27  total_of_special_requests       86672 non-null  int64         \n",
      " 28  reservation_status              86672 non-null  object        \n",
      " 29  reservation_status_date         86672 non-null  datetime64[ns]\n",
      " 30  arrival_date                    86672 non-null  datetime64[ns]\n",
      " 31  total_stay                      86672 non-null  int64         \n",
      " 32  total_members                   86672 non-null  int64         \n",
      " 33  assigned_same_room              86672 non-null  int32         \n",
      "dtypes: datetime64[ns](2), float64(1), int32(2), int64(18), object(11)\n",
      "memory usage: 22.5+ MB\n"
     ]
    }
   ],
   "source": [
    "df.info()"
   ]
  },
  {
   "cell_type": "code",
   "execution_count": 97,
   "id": "23179522",
   "metadata": {},
   "outputs": [
    {
     "data": {
      "text/plain": [
       "Index(['hotel', 'is_canceled', 'lead_time', 'arrival_date_year',\n",
       "       'arrival_date_month', 'arrival_date_week_number',\n",
       "       'arrival_date_day_of_month', 'stays_in_weekend_nights',\n",
       "       'stays_in_week_nights', 'adults', 'children', 'babies', 'meal',\n",
       "       'country', 'market_segment', 'distribution_channel',\n",
       "       'is_repeated_guest', 'previous_cancellations',\n",
       "       'previous_bookings_not_canceled', 'reserved_room_type',\n",
       "       'assigned_room_type', 'booking_changes', 'deposit_type',\n",
       "       'days_in_waiting_list', 'customer_type', 'adr',\n",
       "       'required_car_parking_spaces', 'total_of_special_requests',\n",
       "       'reservation_status', 'reservation_status_date', 'arrival_date',\n",
       "       'total_stay', 'total_members', 'assigned_same_room'],\n",
       "      dtype='object')"
      ]
     },
     "execution_count": 97,
     "metadata": {},
     "output_type": "execute_result"
    }
   ],
   "source": [
    "df.columns"
   ]
  },
  {
   "cell_type": "code",
   "execution_count": 98,
   "id": "ed5c17ad",
   "metadata": {},
   "outputs": [
    {
     "data": {
      "text/plain": [
       "Index(['hotel', 'is_canceled', 'lead_time', 'arrival_date_year',\n",
       "       'arrival_date_month', 'arrival_date_week_number',\n",
       "       'arrival_date_day_of_month', 'arrival_date', 'total_stay',\n",
       "       'stays_in_weekend_nights', 'stays_in_week_nights', 'total_members',\n",
       "       'adults', 'children', 'babies', 'meal', 'country', 'market_segment',\n",
       "       'distribution_channel', 'is_repeated_guest', 'previous_cancellations',\n",
       "       'previous_bookings_not_canceled', 'reserved_room_type',\n",
       "       'assigned_room_type', 'assigned_same_room', 'booking_changes',\n",
       "       'deposit_type', 'days_in_waiting_list', 'customer_type', 'adr',\n",
       "       'required_car_parking_spaces', 'total_of_special_requests',\n",
       "       'reservation_status', 'reservation_status_date'],\n",
       "      dtype='object')"
      ]
     },
     "execution_count": 98,
     "metadata": {},
     "output_type": "execute_result"
    }
   ],
   "source": [
    "# Rearranging Columns\n",
    "df=df[['hotel', 'is_canceled', 'lead_time', 'arrival_date_year',\n",
    "       'arrival_date_month', 'arrival_date_week_number',\n",
    "       'arrival_date_day_of_month', 'arrival_date', 'total_stay','stays_in_weekend_nights',\n",
    "       'stays_in_week_nights', 'total_members', 'adults', 'children', 'babies', 'meal',\n",
    "       'country', 'market_segment', 'distribution_channel',\n",
    "       'is_repeated_guest', 'previous_cancellations',\n",
    "       'previous_bookings_not_canceled', 'reserved_room_type',\n",
    "       'assigned_room_type','assigned_same_room', 'booking_changes', 'deposit_type',\n",
    "       'days_in_waiting_list', 'customer_type', 'adr',\n",
    "       'required_car_parking_spaces', 'total_of_special_requests',\n",
    "       'reservation_status', 'reservation_status_date']]\n",
    "df.columns"
   ]
  },
  {
   "cell_type": "code",
   "execution_count": 99,
   "id": "875615bf",
   "metadata": {},
   "outputs": [],
   "source": [
    "#df.to_csv(\"Cleaned_Hotel_Bookings.csv\")"
   ]
  }
 ],
 "metadata": {
  "kernelspec": {
   "display_name": "Python 3.8.8 ('base')",
   "language": "python",
   "name": "python3"
  },
  "language_info": {
   "codemirror_mode": {
    "name": "ipython",
    "version": 3
   },
   "file_extension": ".py",
   "mimetype": "text/x-python",
   "name": "python",
   "nbconvert_exporter": "python",
   "pygments_lexer": "ipython3",
   "version": "3.8.8"
  },
  "vscode": {
   "interpreter": {
    "hash": "a866063609715f7388a1d1f525f426989d34904c0559c689eb07691520e54ef1"
   }
  }
 },
 "nbformat": 4,
 "nbformat_minor": 5
}
